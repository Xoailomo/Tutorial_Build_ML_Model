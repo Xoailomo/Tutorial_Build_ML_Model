{
  "cells": [
    {
      "cell_type": "markdown",
      "id": "cbd57730-7ba3-4431-bd4c-e1ba4dcc6443",
      "metadata": {
        "id": "cbd57730-7ba3-4431-bd4c-e1ba4dcc6443"
      },
      "source": [
        "# <h1 align=\"center\"> DSR301 XÂY DỰNG MÔ HÌNH HỌC MÁY. <h3/>"
      ]
    },
    {
      "cell_type": "markdown",
      "id": "a94bca8a-6d1c-494e-b172-cea1e84eaa37",
      "metadata": {
        "id": "a94bca8a-6d1c-494e-b172-cea1e84eaa37"
      },
      "source": [
        "\n",
        "## GROUP: 1+1\n",
        "### Group member: huỳn\n",
        "### Group member: nhoi\n",
        "### Group member: thân\n",
        "### Group member: khánh\n",
        "### Group member: khoa"
      ]
    },
    {
      "cell_type": "markdown",
      "id": "88ab3f3c-3401-4d00-a5ae-9e7f57c52205",
      "metadata": {
        "id": "88ab3f3c-3401-4d00-a5ae-9e7f57c52205"
      },
      "source": [
        "### 1. NHIỆM VỤ\n",
        "  1.1. Tên hoạt động: Xây dựng một mô hình học máy bằng R với dữ liệu tự chọn.\n",
        "- 1.2. Mục tiêu:\n",
        "- Thành thạo quy trình xây dựng một mô hình học máy cơ bản.\n",
        "- Áp dụng kỹ năng xử lý dữ liệu, trực quan hóa, lựa chọn mô hình và đánh giá mô hình.\n",
        "- Thực hành sử dụng R và thư viện học máy phổ biến (như caret, randomForest, e1071, glmnet, xgboost, v.v.).\n",
        "- Rèn kỹ năng trình bày kết quả dưới dạng notebook có thể tái lập (reproducible).\n",
        "### 2. YÊU CẦU CHI TIẾT\n",
        "1.\tChọn một bộ dữ liệu (dataset) phù hợp\n",
        "- Có ít nhất 500 dòng dữ liệu và 5 cột đặc trưng trở lên.\n",
        "- Có thể chọn từ: UCI, Kaggle, OpenML, hoặc các bộ dữ liệu sẵn có trong R (iris, mtcars, airquality, Boston, diamonds, v.v.).\n",
        "2.\tMục tiêu mô hình hóa\n",
        "- Lựa chọn một bài toán phân loại hoặc hồi quy phù hợp với dữ liệu.\n",
        "- Nêu rõ biến mục tiêu (target) và biến đặc trưng (features).\n",
        "3.\tTiền xử lý dữ liệu (data preprocessing)\n",
        "- Kiểm tra thiếu dữ liệu và xử lý.\n",
        "- Chuẩn hóa, biến đổi dữ liệu nếu cần (One-Hot Encoding, Scaling...).\n",
        "- Phân chia tập dữ liệu thành train/test (ví dụ: 70/30 hoặc 80/20).\n",
        "4.\tTrực quan hóa dữ liệu\n",
        "- Trình bày các biểu đồ minh họa (histogram, boxplot, scatterplot, correlation heatmap…).\n",
        "- Phân tích sự tương quan hoặc phân phối các biến.\n",
        "5.\tHuấn luyện mô hình học máy\n",
        "- Áp dụng ít nhất 1 mô hình học máy (ví dụ: linear regression, logistic regression, random forest, decision tree, SVM, kNN, xgboost, …).\n",
        "- Tối ưu hoặc điều chỉnh hyperparameter nếu có thể.\n",
        "6.\tĐánh giá mô hình\n",
        "- Sử dụng các chỉ số đánh giá phù hợp:\n",
        "+ Hồi quy: RMSE, MAE, R²\n",
        "+ Phân loại: Accuracy, Confusion Matrix, Precision/Recall/F1-score, ROC/AUC\n",
        "- Đưa ra nhận xét về hiệu quả mô hình.\n",
        "7.\tGhi chép đầy đủ và rõ ràng trong Notebook\n",
        "- Mã R cần có chú thích, trình bày rõ ràng.\n",
        "- Trình bày phân tích, lý do lựa chọn mô hình, kết luận hợp lý.\n",
        "### 3. YÊU CẦU PROJECT\n",
        "- Viết trên Jupyter Notebook (định dạng .ipynb hoặc .html)\n",
        "- Phải chạy được đầy đủ, không lỗi.\n",
        "- Có mô tả dữ liệu, phân tích kết quả, và kết luận tổng thể.\n",
        "- Nhóm thực hiện thuyết trình sản phẩm với tất cả các thành viên đều tham gia. Thời gian: slot 2 của tuần 9 theo lịch học trên Fap\n",
        "### 4. TIÊU CHÍ CHẤM ĐIỂM (thang 10 điểm)\n",
        "Tiêu chí\tMô tả\tĐiểm\n",
        "1. Lựa chọn và hiểu dữ liệu\tMô tả hợp lý, rõ ràng về bộ dữ liệu\t            1\n",
        "2. Tiền xử lý dữ liệu\tPhân tích, xử lý thiếu dữ liệu và biến đổi phù hợp\t1.5\n",
        "3. Trực quan hóa dữ liệu\tCó biểu đồ, phân tích hình ảnh hóa dữ liệu tốt\t1\n",
        "4. Xây dựng mô hình học máy\tMô hình đúng, phù hợp với dữ liệu\t            1.5\n",
        "5. Đánh giá mô hình\tĐúng phương pháp và giải thích rõ ràng\t                1\n",
        "6. Trình bày & Viết báo cáo\tGhi chú, trình bày dễ hiểu, logic\t            3"
      ]
    },
    {
      "cell_type": "code",
      "source": [
        "# cài đặt và kích hoạt font Unicode\n",
        "install.packages(\"showtext\")\n",
        "library(showtext)"
      ],
      "metadata": {
        "colab": {
          "base_uri": "https://localhost:8080/"
        },
        "id": "nLcShp3Dg0J-",
        "outputId": "345c8626-21c8-4cd7-d00c-d9ebdeda5410"
      },
      "id": "nLcShp3Dg0J-",
      "execution_count": null,
      "outputs": [
        {
          "output_type": "stream",
          "name": "stderr",
          "text": [
            "Installing package into ‘/usr/local/lib/R/site-library’\n",
            "(as ‘lib’ is unspecified)\n",
            "\n",
            "also installing the dependencies ‘sysfonts’, ‘showtextdb’\n",
            "\n",
            "\n",
            "Loading required package: sysfonts\n",
            "\n",
            "Loading required package: showtextdb\n",
            "\n"
          ]
        }
      ]
    },
    {
      "cell_type": "code",
      "source": [
        "# library\n",
        "# install.packages(c(\"tidyverse\", \"caret\", \"GGally\", \"DataExplorer\", \"randomForest\"))\n",
        "# handle data and visualization\n",
        "library(tidyverse)\n",
        "# build ML model\n",
        "library(caret)\n",
        "# advanced diagram\n",
        "library(GGally)\n",
        "# automatic EDA report\n",
        "library(DataExplorer)\n",
        "# random forest package\n",
        "library(randomForest)"
      ],
      "metadata": {
        "colab": {
          "base_uri": "https://localhost:8080/",
          "height": 291
        },
        "id": "jxwEtdgglHOG",
        "outputId": "f26b4318-23a0-4fdc-862c-3d8394961bc3",
        "collapsed": true
      },
      "id": "jxwEtdgglHOG",
      "execution_count": 2,
      "outputs": [
        {
          "output_type": "stream",
          "name": "stderr",
          "text": [
            "── \u001b[1mAttaching core tidyverse packages\u001b[22m ──────────────────────── tidyverse 2.0.0 ──\n",
            "\u001b[32m✔\u001b[39m \u001b[34mdplyr    \u001b[39m 1.1.4     \u001b[32m✔\u001b[39m \u001b[34mreadr    \u001b[39m 2.1.5\n",
            "\u001b[32m✔\u001b[39m \u001b[34mforcats  \u001b[39m 1.0.0     \u001b[32m✔\u001b[39m \u001b[34mstringr  \u001b[39m 1.5.1\n",
            "\u001b[32m✔\u001b[39m \u001b[34mggplot2  \u001b[39m 3.5.2     \u001b[32m✔\u001b[39m \u001b[34mtibble   \u001b[39m 3.3.0\n",
            "\u001b[32m✔\u001b[39m \u001b[34mlubridate\u001b[39m 1.9.4     \u001b[32m✔\u001b[39m \u001b[34mtidyr    \u001b[39m 1.3.1\n",
            "\u001b[32m✔\u001b[39m \u001b[34mpurrr    \u001b[39m 1.1.0     \n",
            "── \u001b[1mConflicts\u001b[22m ────────────────────────────────────────── tidyverse_conflicts() ──\n",
            "\u001b[31m✖\u001b[39m \u001b[34mdplyr\u001b[39m::\u001b[32mfilter()\u001b[39m masks \u001b[34mstats\u001b[39m::filter()\n",
            "\u001b[31m✖\u001b[39m \u001b[34mdplyr\u001b[39m::\u001b[32mlag()\u001b[39m    masks \u001b[34mstats\u001b[39m::lag()\n",
            "\u001b[36mℹ\u001b[39m Use the conflicted package (\u001b[3m\u001b[34m<http://conflicted.r-lib.org/>\u001b[39m\u001b[23m) to force all conflicts to become errors\n"
          ]
        },
        {
          "output_type": "error",
          "ename": "ERROR",
          "evalue": "Error in library(caret): there is no package called ‘caret’\n",
          "traceback": [
            "Error in library(caret): there is no package called ‘caret’\nTraceback:\n",
            "1. stop(packageNotFoundError(package, lib.loc, sys.call()))"
          ]
        }
      ]
    },
    {
      "cell_type": "code",
      "source": [
        "install.packages('caret')"
      ],
      "metadata": {
        "colab": {
          "base_uri": "https://localhost:8080/"
        },
        "id": "iXrhtiukEN6e",
        "outputId": "47e60e6b-be08-4246-8d1f-1f42eff64eaf"
      },
      "id": "iXrhtiukEN6e",
      "execution_count": 3,
      "outputs": [
        {
          "output_type": "stream",
          "name": "stderr",
          "text": [
            "Installing package into ‘/usr/local/lib/R/site-library’\n",
            "(as ‘lib’ is unspecified)\n",
            "\n",
            "also installing the dependencies ‘listenv’, ‘parallelly’, ‘future’, ‘globals’, ‘shape’, ‘future.apply’, ‘numDeriv’, ‘progressr’, ‘SQUAREM’, ‘diagram’, ‘lava’, ‘prodlim’, ‘proxy’, ‘iterators’, ‘clock’, ‘gower’, ‘hardhat’, ‘ipred’, ‘sparsevctrs’, ‘timeDate’, ‘e1071’, ‘foreach’, ‘ModelMetrics’, ‘plyr’, ‘pROC’, ‘recipes’, ‘reshape2’\n",
            "\n",
            "\n"
          ]
        }
      ]
    },
    {
      "cell_type": "code",
      "source": [
        "df = read.csv(\"WA_Fn-UseC_-Telco-Customer-Churn.csv\")"
      ],
      "metadata": {
        "id": "icYNmOpvMXB1"
      },
      "id": "icYNmOpvMXB1",
      "execution_count": null,
      "outputs": []
    },
    {
      "cell_type": "code",
      "source": [
        "str(df)"
      ],
      "metadata": {
        "colab": {
          "base_uri": "https://localhost:8080/"
        },
        "collapsed": true,
        "id": "83g1IabfT_69",
        "outputId": "91774a1a-2444-4778-b01f-f4514364eac1"
      },
      "id": "83g1IabfT_69",
      "execution_count": null,
      "outputs": [
        {
          "output_type": "stream",
          "name": "stdout",
          "text": [
            "'data.frame':\t7043 obs. of  21 variables:\n",
            " $ customerID      : chr  \"7590-VHVEG\" \"5575-GNVDE\" \"3668-QPYBK\" \"7795-CFOCW\" ...\n",
            " $ gender          : chr  \"Female\" \"Male\" \"Male\" \"Male\" ...\n",
            " $ SeniorCitizen   : int  0 0 0 0 0 0 0 0 0 0 ...\n",
            " $ Partner         : chr  \"Yes\" \"No\" \"No\" \"No\" ...\n",
            " $ Dependents      : chr  \"No\" \"No\" \"No\" \"No\" ...\n",
            " $ tenure          : int  1 34 2 45 2 8 22 10 28 62 ...\n",
            " $ PhoneService    : chr  \"No\" \"Yes\" \"Yes\" \"No\" ...\n",
            " $ MultipleLines   : chr  \"No phone service\" \"No\" \"No\" \"No phone service\" ...\n",
            " $ InternetService : chr  \"DSL\" \"DSL\" \"DSL\" \"DSL\" ...\n",
            " $ OnlineSecurity  : chr  \"No\" \"Yes\" \"Yes\" \"Yes\" ...\n",
            " $ OnlineBackup    : chr  \"Yes\" \"No\" \"Yes\" \"No\" ...\n",
            " $ DeviceProtection: chr  \"No\" \"Yes\" \"No\" \"Yes\" ...\n",
            " $ TechSupport     : chr  \"No\" \"No\" \"No\" \"Yes\" ...\n",
            " $ StreamingTV     : chr  \"No\" \"No\" \"No\" \"No\" ...\n",
            " $ StreamingMovies : chr  \"No\" \"No\" \"No\" \"No\" ...\n",
            " $ Contract        : chr  \"Month-to-month\" \"One year\" \"Month-to-month\" \"One year\" ...\n",
            " $ PaperlessBilling: chr  \"Yes\" \"No\" \"Yes\" \"No\" ...\n",
            " $ PaymentMethod   : chr  \"Electronic check\" \"Mailed check\" \"Mailed check\" \"Bank transfer (automatic)\" ...\n",
            " $ MonthlyCharges  : num  29.9 57 53.9 42.3 70.7 ...\n",
            " $ TotalCharges    : num  29.9 1889.5 108.2 1840.8 151.7 ...\n",
            " $ Churn           : chr  \"No\" \"No\" \"Yes\" \"No\" ...\n"
          ]
        }
      ]
    },
    {
      "cell_type": "code",
      "source": [
        "dim(df)"
      ],
      "metadata": {
        "colab": {
          "base_uri": "https://localhost:8080/",
          "height": 34
        },
        "collapsed": true,
        "id": "EtBfBVo8UBPH",
        "outputId": "6c90f1cd-3d9a-4a07-fe65-9ee7930fcd6f"
      },
      "id": "EtBfBVo8UBPH",
      "execution_count": null,
      "outputs": [
        {
          "output_type": "display_data",
          "data": {
            "text/html": [
              "<style>\n",
              ".list-inline {list-style: none; margin:0; padding: 0}\n",
              ".list-inline>li {display: inline-block}\n",
              ".list-inline>li:not(:last-child)::after {content: \"\\00b7\"; padding: 0 .5ex}\n",
              "</style>\n",
              "<ol class=list-inline><li>7043</li><li>21</li></ol>\n"
            ],
            "text/markdown": "1. 7043\n2. 21\n\n\n",
            "text/latex": "\\begin{enumerate*}\n\\item 7043\n\\item 21\n\\end{enumerate*}\n",
            "text/plain": [
              "[1] 7043   21"
            ]
          },
          "metadata": {}
        }
      ]
    },
    {
      "cell_type": "code",
      "source": [
        "head(df)"
      ],
      "metadata": {
        "colab": {
          "base_uri": "https://localhost:8080/",
          "height": 410
        },
        "id": "2sWL3QxSUoCR",
        "outputId": "11219c2e-d8d5-44ff-ac66-6d28bcdfeea1",
        "collapsed": true
      },
      "id": "2sWL3QxSUoCR",
      "execution_count": null,
      "outputs": [
        {
          "output_type": "display_data",
          "data": {
            "text/html": [
              "<table class=\"dataframe\">\n",
              "<caption>A data.frame: 6 × 21</caption>\n",
              "<thead>\n",
              "\t<tr><th></th><th scope=col>customerID</th><th scope=col>gender</th><th scope=col>SeniorCitizen</th><th scope=col>Partner</th><th scope=col>Dependents</th><th scope=col>tenure</th><th scope=col>PhoneService</th><th scope=col>MultipleLines</th><th scope=col>InternetService</th><th scope=col>OnlineSecurity</th><th scope=col>⋯</th><th scope=col>DeviceProtection</th><th scope=col>TechSupport</th><th scope=col>StreamingTV</th><th scope=col>StreamingMovies</th><th scope=col>Contract</th><th scope=col>PaperlessBilling</th><th scope=col>PaymentMethod</th><th scope=col>MonthlyCharges</th><th scope=col>TotalCharges</th><th scope=col>Churn</th></tr>\n",
              "\t<tr><th></th><th scope=col>&lt;chr&gt;</th><th scope=col>&lt;chr&gt;</th><th scope=col>&lt;int&gt;</th><th scope=col>&lt;chr&gt;</th><th scope=col>&lt;chr&gt;</th><th scope=col>&lt;int&gt;</th><th scope=col>&lt;chr&gt;</th><th scope=col>&lt;chr&gt;</th><th scope=col>&lt;chr&gt;</th><th scope=col>&lt;chr&gt;</th><th scope=col>⋯</th><th scope=col>&lt;chr&gt;</th><th scope=col>&lt;chr&gt;</th><th scope=col>&lt;chr&gt;</th><th scope=col>&lt;chr&gt;</th><th scope=col>&lt;chr&gt;</th><th scope=col>&lt;chr&gt;</th><th scope=col>&lt;chr&gt;</th><th scope=col>&lt;dbl&gt;</th><th scope=col>&lt;dbl&gt;</th><th scope=col>&lt;chr&gt;</th></tr>\n",
              "</thead>\n",
              "<tbody>\n",
              "\t<tr><th scope=row>1</th><td>7590-VHVEG</td><td>Female</td><td>0</td><td>Yes</td><td>No</td><td> 1</td><td>No </td><td>No phone service</td><td>DSL        </td><td>No </td><td>⋯</td><td>No </td><td>No </td><td>No </td><td>No </td><td>Month-to-month</td><td>Yes</td><td>Electronic check         </td><td>29.85</td><td>  29.85</td><td>No </td></tr>\n",
              "\t<tr><th scope=row>2</th><td>5575-GNVDE</td><td>Male  </td><td>0</td><td>No </td><td>No</td><td>34</td><td>Yes</td><td>No              </td><td>DSL        </td><td>Yes</td><td>⋯</td><td>Yes</td><td>No </td><td>No </td><td>No </td><td>One year      </td><td>No </td><td>Mailed check             </td><td>56.95</td><td>1889.50</td><td>No </td></tr>\n",
              "\t<tr><th scope=row>3</th><td>3668-QPYBK</td><td>Male  </td><td>0</td><td>No </td><td>No</td><td> 2</td><td>Yes</td><td>No              </td><td>DSL        </td><td>Yes</td><td>⋯</td><td>No </td><td>No </td><td>No </td><td>No </td><td>Month-to-month</td><td>Yes</td><td>Mailed check             </td><td>53.85</td><td> 108.15</td><td>Yes</td></tr>\n",
              "\t<tr><th scope=row>4</th><td>7795-CFOCW</td><td>Male  </td><td>0</td><td>No </td><td>No</td><td>45</td><td>No </td><td>No phone service</td><td>DSL        </td><td>Yes</td><td>⋯</td><td>Yes</td><td>Yes</td><td>No </td><td>No </td><td>One year      </td><td>No </td><td>Bank transfer (automatic)</td><td>42.30</td><td>1840.75</td><td>No </td></tr>\n",
              "\t<tr><th scope=row>5</th><td>9237-HQITU</td><td>Female</td><td>0</td><td>No </td><td>No</td><td> 2</td><td>Yes</td><td>No              </td><td>Fiber optic</td><td>No </td><td>⋯</td><td>No </td><td>No </td><td>No </td><td>No </td><td>Month-to-month</td><td>Yes</td><td>Electronic check         </td><td>70.70</td><td> 151.65</td><td>Yes</td></tr>\n",
              "\t<tr><th scope=row>6</th><td>9305-CDSKC</td><td>Female</td><td>0</td><td>No </td><td>No</td><td> 8</td><td>Yes</td><td>Yes             </td><td>Fiber optic</td><td>No </td><td>⋯</td><td>Yes</td><td>No </td><td>Yes</td><td>Yes</td><td>Month-to-month</td><td>Yes</td><td>Electronic check         </td><td>99.65</td><td> 820.50</td><td>Yes</td></tr>\n",
              "</tbody>\n",
              "</table>\n"
            ],
            "text/markdown": "\nA data.frame: 6 × 21\n\n| <!--/--> | customerID &lt;chr&gt; | gender &lt;chr&gt; | SeniorCitizen &lt;int&gt; | Partner &lt;chr&gt; | Dependents &lt;chr&gt; | tenure &lt;int&gt; | PhoneService &lt;chr&gt; | MultipleLines &lt;chr&gt; | InternetService &lt;chr&gt; | OnlineSecurity &lt;chr&gt; | ⋯ ⋯ | DeviceProtection &lt;chr&gt; | TechSupport &lt;chr&gt; | StreamingTV &lt;chr&gt; | StreamingMovies &lt;chr&gt; | Contract &lt;chr&gt; | PaperlessBilling &lt;chr&gt; | PaymentMethod &lt;chr&gt; | MonthlyCharges &lt;dbl&gt; | TotalCharges &lt;dbl&gt; | Churn &lt;chr&gt; |\n|---|---|---|---|---|---|---|---|---|---|---|---|---|---|---|---|---|---|---|---|---|---|\n| 1 | 7590-VHVEG | Female | 0 | Yes | No |  1 | No  | No phone service | DSL         | No  | ⋯ | No  | No  | No  | No  | Month-to-month | Yes | Electronic check          | 29.85 |   29.85 | No  |\n| 2 | 5575-GNVDE | Male   | 0 | No  | No | 34 | Yes | No               | DSL         | Yes | ⋯ | Yes | No  | No  | No  | One year       | No  | Mailed check              | 56.95 | 1889.50 | No  |\n| 3 | 3668-QPYBK | Male   | 0 | No  | No |  2 | Yes | No               | DSL         | Yes | ⋯ | No  | No  | No  | No  | Month-to-month | Yes | Mailed check              | 53.85 |  108.15 | Yes |\n| 4 | 7795-CFOCW | Male   | 0 | No  | No | 45 | No  | No phone service | DSL         | Yes | ⋯ | Yes | Yes | No  | No  | One year       | No  | Bank transfer (automatic) | 42.30 | 1840.75 | No  |\n| 5 | 9237-HQITU | Female | 0 | No  | No |  2 | Yes | No               | Fiber optic | No  | ⋯ | No  | No  | No  | No  | Month-to-month | Yes | Electronic check          | 70.70 |  151.65 | Yes |\n| 6 | 9305-CDSKC | Female | 0 | No  | No |  8 | Yes | Yes              | Fiber optic | No  | ⋯ | Yes | No  | Yes | Yes | Month-to-month | Yes | Electronic check          | 99.65 |  820.50 | Yes |\n\n",
            "text/latex": "A data.frame: 6 × 21\n\\begin{tabular}{r|lllllllllllllllllllll}\n  & customerID & gender & SeniorCitizen & Partner & Dependents & tenure & PhoneService & MultipleLines & InternetService & OnlineSecurity & ⋯ & DeviceProtection & TechSupport & StreamingTV & StreamingMovies & Contract & PaperlessBilling & PaymentMethod & MonthlyCharges & TotalCharges & Churn\\\\\n  & <chr> & <chr> & <int> & <chr> & <chr> & <int> & <chr> & <chr> & <chr> & <chr> & ⋯ & <chr> & <chr> & <chr> & <chr> & <chr> & <chr> & <chr> & <dbl> & <dbl> & <chr>\\\\\n\\hline\n\t1 & 7590-VHVEG & Female & 0 & Yes & No &  1 & No  & No phone service & DSL         & No  & ⋯ & No  & No  & No  & No  & Month-to-month & Yes & Electronic check          & 29.85 &   29.85 & No \\\\\n\t2 & 5575-GNVDE & Male   & 0 & No  & No & 34 & Yes & No               & DSL         & Yes & ⋯ & Yes & No  & No  & No  & One year       & No  & Mailed check              & 56.95 & 1889.50 & No \\\\\n\t3 & 3668-QPYBK & Male   & 0 & No  & No &  2 & Yes & No               & DSL         & Yes & ⋯ & No  & No  & No  & No  & Month-to-month & Yes & Mailed check              & 53.85 &  108.15 & Yes\\\\\n\t4 & 7795-CFOCW & Male   & 0 & No  & No & 45 & No  & No phone service & DSL         & Yes & ⋯ & Yes & Yes & No  & No  & One year       & No  & Bank transfer (automatic) & 42.30 & 1840.75 & No \\\\\n\t5 & 9237-HQITU & Female & 0 & No  & No &  2 & Yes & No               & Fiber optic & No  & ⋯ & No  & No  & No  & No  & Month-to-month & Yes & Electronic check          & 70.70 &  151.65 & Yes\\\\\n\t6 & 9305-CDSKC & Female & 0 & No  & No &  8 & Yes & Yes              & Fiber optic & No  & ⋯ & Yes & No  & Yes & Yes & Month-to-month & Yes & Electronic check          & 99.65 &  820.50 & Yes\\\\\n\\end{tabular}\n",
            "text/plain": [
              "  customerID gender SeniorCitizen Partner Dependents tenure PhoneService\n",
              "1 7590-VHVEG Female 0             Yes     No          1     No          \n",
              "2 5575-GNVDE Male   0             No      No         34     Yes         \n",
              "3 3668-QPYBK Male   0             No      No          2     Yes         \n",
              "4 7795-CFOCW Male   0             No      No         45     No          \n",
              "5 9237-HQITU Female 0             No      No          2     Yes         \n",
              "6 9305-CDSKC Female 0             No      No          8     Yes         \n",
              "  MultipleLines    InternetService OnlineSecurity ⋯ DeviceProtection\n",
              "1 No phone service DSL             No             ⋯ No              \n",
              "2 No               DSL             Yes            ⋯ Yes             \n",
              "3 No               DSL             Yes            ⋯ No              \n",
              "4 No phone service DSL             Yes            ⋯ Yes             \n",
              "5 No               Fiber optic     No             ⋯ No              \n",
              "6 Yes              Fiber optic     No             ⋯ Yes             \n",
              "  TechSupport StreamingTV StreamingMovies Contract       PaperlessBilling\n",
              "1 No          No          No              Month-to-month Yes             \n",
              "2 No          No          No              One year       No              \n",
              "3 No          No          No              Month-to-month Yes             \n",
              "4 Yes         No          No              One year       No              \n",
              "5 No          No          No              Month-to-month Yes             \n",
              "6 No          Yes         Yes             Month-to-month Yes             \n",
              "  PaymentMethod             MonthlyCharges TotalCharges Churn\n",
              "1 Electronic check          29.85            29.85      No   \n",
              "2 Mailed check              56.95          1889.50      No   \n",
              "3 Mailed check              53.85           108.15      Yes  \n",
              "4 Bank transfer (automatic) 42.30          1840.75      No   \n",
              "5 Electronic check          70.70           151.65      Yes  \n",
              "6 Electronic check          99.65           820.50      Yes  "
            ]
          },
          "metadata": {}
        }
      ]
    },
    {
      "cell_type": "code",
      "source": [
        "# morder version of str, from tidyverse\n",
        "# use only for obs type tbl or data frame\n",
        "glimpse(df)"
      ],
      "metadata": {
        "colab": {
          "base_uri": "https://localhost:8080/",
          "height": 73
        },
        "collapsed": true,
        "id": "4KBFPPh-Uq1a",
        "outputId": "b84d3522-786e-4ebe-cfc8-c0328daa4e36"
      },
      "id": "4KBFPPh-Uq1a",
      "execution_count": null,
      "outputs": [
        {
          "output_type": "error",
          "ename": "ERROR",
          "evalue": "Error in glimpse(df): could not find function \"glimpse\"\n",
          "traceback": [
            "Error in glimpse(df): could not find function \"glimpse\"\nTraceback:\n"
          ]
        }
      ]
    },
    {
      "cell_type": "code",
      "source": [
        "introduce(df)"
      ],
      "metadata": {
        "colab": {
          "base_uri": "https://localhost:8080/",
          "height": 149
        },
        "collapsed": true,
        "id": "LV9-ybnfX4oN",
        "outputId": "b3fae7d9-5dad-4160-c432-7d5da0451d31"
      },
      "id": "LV9-ybnfX4oN",
      "execution_count": null,
      "outputs": [
        {
          "output_type": "display_data",
          "data": {
            "text/html": [
              "<table class=\"dataframe\">\n",
              "<caption>A data.frame: 1 × 9</caption>\n",
              "<thead>\n",
              "\t<tr><th scope=col>rows</th><th scope=col>columns</th><th scope=col>discrete_columns</th><th scope=col>continuous_columns</th><th scope=col>all_missing_columns</th><th scope=col>total_missing_values</th><th scope=col>complete_rows</th><th scope=col>total_observations</th><th scope=col>memory_usage</th></tr>\n",
              "\t<tr><th scope=col>&lt;int&gt;</th><th scope=col>&lt;int&gt;</th><th scope=col>&lt;int&gt;</th><th scope=col>&lt;int&gt;</th><th scope=col>&lt;int&gt;</th><th scope=col>&lt;int&gt;</th><th scope=col>&lt;int&gt;</th><th scope=col>&lt;int&gt;</th><th scope=col>&lt;dbl&gt;</th></tr>\n",
              "</thead>\n",
              "<tbody>\n",
              "\t<tr><td>7043</td><td>21</td><td>17</td><td>4</td><td>0</td><td>11</td><td>7032</td><td>147903</td><td>1585496</td></tr>\n",
              "</tbody>\n",
              "</table>\n"
            ],
            "text/markdown": "\nA data.frame: 1 × 9\n\n| rows &lt;int&gt; | columns &lt;int&gt; | discrete_columns &lt;int&gt; | continuous_columns &lt;int&gt; | all_missing_columns &lt;int&gt; | total_missing_values &lt;int&gt; | complete_rows &lt;int&gt; | total_observations &lt;int&gt; | memory_usage &lt;dbl&gt; |\n|---|---|---|---|---|---|---|---|---|\n| 7043 | 21 | 17 | 4 | 0 | 11 | 7032 | 147903 | 1585496 |\n\n",
            "text/latex": "A data.frame: 1 × 9\n\\begin{tabular}{lllllllll}\n rows & columns & discrete\\_columns & continuous\\_columns & all\\_missing\\_columns & total\\_missing\\_values & complete\\_rows & total\\_observations & memory\\_usage\\\\\n <int> & <int> & <int> & <int> & <int> & <int> & <int> & <int> & <dbl>\\\\\n\\hline\n\t 7043 & 21 & 17 & 4 & 0 & 11 & 7032 & 147903 & 1585496\\\\\n\\end{tabular}\n",
            "text/plain": [
              "  rows columns discrete_columns continuous_columns all_missing_columns\n",
              "1 7043 21      17               4                  0                  \n",
              "  total_missing_values complete_rows total_observations memory_usage\n",
              "1 11                   7032          147903             1585496     "
            ]
          },
          "metadata": {}
        }
      ]
    },
    {
      "cell_type": "code",
      "source": [
        "plot_missing(df)"
      ],
      "metadata": {
        "colab": {
          "base_uri": "https://localhost:8080/",
          "height": 437
        },
        "collapsed": true,
        "id": "H7So85wlYsY8",
        "outputId": "15f568c5-10c7-4f90-d77d-1f19e3e19485"
      },
      "id": "H7So85wlYsY8",
      "execution_count": null,
      "outputs": [
        {
          "output_type": "display_data",
          "data": {
            "text/plain": [
              "plot without title"
            ],
            "image/png": "[encoded data removed]"
          },
          "metadata": {
            "image/png": {
              "width": 420,
              "height": 420
            }
          }
        }
      ]
    },
    {
      "cell_type": "code",
      "metadata": {
        "colab": {
          "base_uri": "https://localhost:8080/"
        },
        "collapsed": true,
        "id": "4a686797",
        "outputId": "8901b646-f09c-4936-d1bd-09ddb294d285"
      },
      "source": [
        "# Install pandoc\n",
        "install.packages(\"rmarkdown\", dependencies=TRUE)"
      ],
      "id": "4a686797",
      "execution_count": null,
      "outputs": [
        {
          "output_type": "stream",
          "name": "stderr",
          "text": [
            "Installing package into ‘/usr/local/lib/R/site-library’\n",
            "(as ‘lib’ is unspecified)\n",
            "\n",
            "also installing the dependencies ‘RcppTOML’, ‘zoo’, ‘xts’, ‘PKI’, ‘packrat’, ‘renv’, ‘snowflakeauth’, ‘V8’, ‘dygraphs’, ‘rsconnect’, ‘katex’, ‘cleanrmd’\n",
            "\n",
            "\n"
          ]
        }
      ]
    },
    {
      "cell_type": "code",
      "metadata": {
        "id": "38e72ae3"
      },
      "source": [
        "# Install pandoc using apt-get\n",
        "system(\"apt-get install -y pandoc\")"
      ],
      "id": "38e72ae3",
      "execution_count": null,
      "outputs": []
    },
    {
      "cell_type": "code",
      "source": [
        "create_report(df)"
      ],
      "metadata": {
        "colab": {
          "base_uri": "https://localhost:8080/"
        },
        "collapsed": true,
        "id": "12R_CqeqgXC8",
        "outputId": "38620718-1ca2-4d65-9185-30e126906367"
      },
      "id": "12R_CqeqgXC8",
      "execution_count": null,
      "outputs": [
        {
          "output_type": "stream",
          "name": "stderr",
          "text": [
            "\n",
            "\n",
            "processing file: report.rmd\n",
            "\n"
          ]
        },
        {
          "output_type": "stream",
          "name": "stdout",
          "text": [
            "1/42                                 \n",
            "2/42 [global_options]                \n",
            "3/42                                 \n",
            "4/42 [introduce]                     \n",
            "5/42                                 \n",
            "6/42 [plot_intro]                    \n",
            "7/42                                 \n",
            "8/42 [data_structure]                \n",
            "9/42                                 \n",
            "10/42 [missing_profile]               \n",
            "11/42                                 \n",
            "12/42 [univariate_distribution_header]\n",
            "13/42                                 \n",
            "14/42 [plot_histogram]                \n",
            "15/42                                 \n",
            "16/42 [plot_density]                  \n",
            "17/42                                 \n",
            "18/42 [plot_frequency_bar]            \n",
            "19/42                                 \n",
            "20/42 [plot_response_bar]             \n",
            "21/42                                 \n",
            "22/42 [plot_with_bar]                 \n",
            "23/42                                 \n",
            "24/42 [plot_normal_qq]                \n",
            "25/42                                 \n",
            "26/42 [plot_response_qq]              \n",
            "27/42                                 \n",
            "28/42 [plot_by_qq]                    \n",
            "29/42                                 \n",
            "30/42 [correlation_analysis]          \n",
            "31/42                                 \n",
            "32/42 [principal_component_analysis]  \n",
            "33/42                                 \n",
            "34/42 [bivariate_distribution_header] \n",
            "35/42                                 \n",
            "36/42 [plot_response_boxplot]         \n",
            "37/42                                 \n",
            "38/42 [plot_by_boxplot]               \n",
            "39/42                                 \n",
            "40/42 [plot_response_scatterplot]     \n",
            "41/42                                 \n",
            "42/42 [plot_by_scatterplot]           \n"
          ]
        },
        {
          "output_type": "stream",
          "name": "stderr",
          "text": [
            "output file: /content/report.knit.md\n",
            "\n",
            "\n"
          ]
        },
        {
          "output_type": "stream",
          "name": "stdout",
          "text": [
            "/usr/bin/pandoc +RTS -K512m -RTS /content/report.knit.md --to html4 --from markdown+autolink_bare_uris+tex_math_single_backslash --output /content/report.html --lua-filter /usr/lib/R/site-library/rmarkdown/rmarkdown/lua/pagebreak.lua --lua-filter /usr/lib/R/site-library/rmarkdown/rmarkdown/lua/latex-div.lua --self-contained --variable bs3=TRUE --section-divs --table-of-contents --toc-depth 6 --template /usr/lib/R/site-library/rmarkdown/rmd/h/default.html --no-highlight --variable highlightjs=1 --variable theme=yeti --mathjax --variable 'mathjax-url=https://mathjax.rstudio.com/latest/MathJax.js?config=TeX-AMS-MML_HTMLorMML' --include-in-header /tmp/Rtmp3q0lSY/rmarkdown-str9c161dcba1.html \n"
          ]
        },
        {
          "output_type": "stream",
          "name": "stderr",
          "text": [
            "\n",
            "Output created: report.html\n",
            "\n"
          ]
        }
      ]
    },
    {
      "cell_type": "code",
      "source": [
        "df %>% filter(tenure == 0)"
      ],
      "metadata": {
        "colab": {
          "base_uri": "https://localhost:8080/",
          "height": 654
        },
        "collapsed": true,
        "id": "eQZhhfAfiQ1v",
        "outputId": "36778af7-7fb1-44f2-ba73-3ede807cbaea"
      },
      "id": "eQZhhfAfiQ1v",
      "execution_count": null,
      "outputs": [
        {
          "output_type": "display_data",
          "data": {
            "text/html": [
              "<table class=\"dataframe\">\n",
              "<caption>A data.frame: 11 × 21</caption>\n",
              "<thead>\n",
              "\t<tr><th scope=col>customerID</th><th scope=col>gender</th><th scope=col>SeniorCitizen</th><th scope=col>Partner</th><th scope=col>Dependents</th><th scope=col>tenure</th><th scope=col>PhoneService</th><th scope=col>MultipleLines</th><th scope=col>InternetService</th><th scope=col>OnlineSecurity</th><th scope=col>⋯</th><th scope=col>DeviceProtection</th><th scope=col>TechSupport</th><th scope=col>StreamingTV</th><th scope=col>StreamingMovies</th><th scope=col>Contract</th><th scope=col>PaperlessBilling</th><th scope=col>PaymentMethod</th><th scope=col>MonthlyCharges</th><th scope=col>TotalCharges</th><th scope=col>Churn</th></tr>\n",
              "\t<tr><th scope=col>&lt;chr&gt;</th><th scope=col>&lt;chr&gt;</th><th scope=col>&lt;int&gt;</th><th scope=col>&lt;chr&gt;</th><th scope=col>&lt;chr&gt;</th><th scope=col>&lt;int&gt;</th><th scope=col>&lt;chr&gt;</th><th scope=col>&lt;chr&gt;</th><th scope=col>&lt;chr&gt;</th><th scope=col>&lt;chr&gt;</th><th scope=col>⋯</th><th scope=col>&lt;chr&gt;</th><th scope=col>&lt;chr&gt;</th><th scope=col>&lt;chr&gt;</th><th scope=col>&lt;chr&gt;</th><th scope=col>&lt;chr&gt;</th><th scope=col>&lt;chr&gt;</th><th scope=col>&lt;chr&gt;</th><th scope=col>&lt;dbl&gt;</th><th scope=col>&lt;dbl&gt;</th><th scope=col>&lt;chr&gt;</th></tr>\n",
              "</thead>\n",
              "<tbody>\n",
              "\t<tr><td>4472-LVYGI</td><td>Female</td><td>0</td><td>Yes</td><td>Yes</td><td>0</td><td>No </td><td>No phone service</td><td>DSL</td><td>Yes                </td><td>⋯</td><td>Yes                </td><td>Yes                </td><td>Yes                </td><td>No                 </td><td>Two year</td><td>Yes</td><td>Bank transfer (automatic)</td><td>52.55</td><td>NA</td><td>No</td></tr>\n",
              "\t<tr><td>3115-CZMZD</td><td>Male  </td><td>0</td><td>No </td><td>Yes</td><td>0</td><td>Yes</td><td>No              </td><td>No </td><td>No internet service</td><td>⋯</td><td>No internet service</td><td>No internet service</td><td>No internet service</td><td>No internet service</td><td>Two year</td><td>No </td><td>Mailed check             </td><td>20.25</td><td>NA</td><td>No</td></tr>\n",
              "\t<tr><td>5709-LVOEQ</td><td>Female</td><td>0</td><td>Yes</td><td>Yes</td><td>0</td><td>Yes</td><td>No              </td><td>DSL</td><td>Yes                </td><td>⋯</td><td>Yes                </td><td>No                 </td><td>Yes                </td><td>Yes                </td><td>Two year</td><td>No </td><td>Mailed check             </td><td>80.85</td><td>NA</td><td>No</td></tr>\n",
              "\t<tr><td>4367-NUYAO</td><td>Male  </td><td>0</td><td>Yes</td><td>Yes</td><td>0</td><td>Yes</td><td>Yes             </td><td>No </td><td>No internet service</td><td>⋯</td><td>No internet service</td><td>No internet service</td><td>No internet service</td><td>No internet service</td><td>Two year</td><td>No </td><td>Mailed check             </td><td>25.75</td><td>NA</td><td>No</td></tr>\n",
              "\t<tr><td>1371-DWPAZ</td><td>Female</td><td>0</td><td>Yes</td><td>Yes</td><td>0</td><td>No </td><td>No phone service</td><td>DSL</td><td>Yes                </td><td>⋯</td><td>Yes                </td><td>Yes                </td><td>Yes                </td><td>No                 </td><td>Two year</td><td>No </td><td>Credit card (automatic)  </td><td>56.05</td><td>NA</td><td>No</td></tr>\n",
              "\t<tr><td>7644-OMVMY</td><td>Male  </td><td>0</td><td>Yes</td><td>Yes</td><td>0</td><td>Yes</td><td>No              </td><td>No </td><td>No internet service</td><td>⋯</td><td>No internet service</td><td>No internet service</td><td>No internet service</td><td>No internet service</td><td>Two year</td><td>No </td><td>Mailed check             </td><td>19.85</td><td>NA</td><td>No</td></tr>\n",
              "\t<tr><td>3213-VVOLG</td><td>Male  </td><td>0</td><td>Yes</td><td>Yes</td><td>0</td><td>Yes</td><td>Yes             </td><td>No </td><td>No internet service</td><td>⋯</td><td>No internet service</td><td>No internet service</td><td>No internet service</td><td>No internet service</td><td>Two year</td><td>No </td><td>Mailed check             </td><td>25.35</td><td>NA</td><td>No</td></tr>\n",
              "\t<tr><td>2520-SGTTA</td><td>Female</td><td>0</td><td>Yes</td><td>Yes</td><td>0</td><td>Yes</td><td>No              </td><td>No </td><td>No internet service</td><td>⋯</td><td>No internet service</td><td>No internet service</td><td>No internet service</td><td>No internet service</td><td>Two year</td><td>No </td><td>Mailed check             </td><td>20.00</td><td>NA</td><td>No</td></tr>\n",
              "\t<tr><td>2923-ARZLG</td><td>Male  </td><td>0</td><td>Yes</td><td>Yes</td><td>0</td><td>Yes</td><td>No              </td><td>No </td><td>No internet service</td><td>⋯</td><td>No internet service</td><td>No internet service</td><td>No internet service</td><td>No internet service</td><td>One year</td><td>Yes</td><td>Mailed check             </td><td>19.70</td><td>NA</td><td>No</td></tr>\n",
              "\t<tr><td>4075-WKNIU</td><td>Female</td><td>0</td><td>Yes</td><td>Yes</td><td>0</td><td>Yes</td><td>Yes             </td><td>DSL</td><td>No                 </td><td>⋯</td><td>Yes                </td><td>Yes                </td><td>Yes                </td><td>No                 </td><td>Two year</td><td>No </td><td>Mailed check             </td><td>73.35</td><td>NA</td><td>No</td></tr>\n",
              "\t<tr><td>2775-SEFEE</td><td>Male  </td><td>0</td><td>No </td><td>Yes</td><td>0</td><td>Yes</td><td>Yes             </td><td>DSL</td><td>Yes                </td><td>⋯</td><td>No                 </td><td>Yes                </td><td>No                 </td><td>No                 </td><td>Two year</td><td>Yes</td><td>Bank transfer (automatic)</td><td>61.90</td><td>NA</td><td>No</td></tr>\n",
              "</tbody>\n",
              "</table>\n"
            ],
            "text/markdown": "\nA data.frame: 11 × 21\n\n| customerID &lt;chr&gt; | gender &lt;chr&gt; | SeniorCitizen &lt;int&gt; | Partner &lt;chr&gt; | Dependents &lt;chr&gt; | tenure &lt;int&gt; | PhoneService &lt;chr&gt; | MultipleLines &lt;chr&gt; | InternetService &lt;chr&gt; | OnlineSecurity &lt;chr&gt; | ⋯ ⋯ | DeviceProtection &lt;chr&gt; | TechSupport &lt;chr&gt; | StreamingTV &lt;chr&gt; | StreamingMovies &lt;chr&gt; | Contract &lt;chr&gt; | PaperlessBilling &lt;chr&gt; | PaymentMethod &lt;chr&gt; | MonthlyCharges &lt;dbl&gt; | TotalCharges &lt;dbl&gt; | Churn &lt;chr&gt; |\n|---|---|---|---|---|---|---|---|---|---|---|---|---|---|---|---|---|---|---|---|---|\n| 4472-LVYGI | Female | 0 | Yes | Yes | 0 | No  | No phone service | DSL | Yes                 | ⋯ | Yes                 | Yes                 | Yes                 | No                  | Two year | Yes | Bank transfer (automatic) | 52.55 | NA | No |\n| 3115-CZMZD | Male   | 0 | No  | Yes | 0 | Yes | No               | No  | No internet service | ⋯ | No internet service | No internet service | No internet service | No internet service | Two year | No  | Mailed check              | 20.25 | NA | No |\n| 5709-LVOEQ | Female | 0 | Yes | Yes | 0 | Yes | No               | DSL | Yes                 | ⋯ | Yes                 | No                  | Yes                 | Yes                 | Two year | No  | Mailed check              | 80.85 | NA | No |\n| 4367-NUYAO | Male   | 0 | Yes | Yes | 0 | Yes | Yes              | No  | No internet service | ⋯ | No internet service | No internet service | No internet service | No internet service | Two year | No  | Mailed check              | 25.75 | NA | No |\n| 1371-DWPAZ | Female | 0 | Yes | Yes | 0 | No  | No phone service | DSL | Yes                 | ⋯ | Yes                 | Yes                 | Yes                 | No                  | Two year | No  | Credit card (automatic)   | 56.05 | NA | No |\n| 7644-OMVMY | Male   | 0 | Yes | Yes | 0 | Yes | No               | No  | No internet service | ⋯ | No internet service | No internet service | No internet service | No internet service | Two year | No  | Mailed check              | 19.85 | NA | No |\n| 3213-VVOLG | Male   | 0 | Yes | Yes | 0 | Yes | Yes              | No  | No internet service | ⋯ | No internet service | No internet service | No internet service | No internet service | Two year | No  | Mailed check              | 25.35 | NA | No |\n| 2520-SGTTA | Female | 0 | Yes | Yes | 0 | Yes | No               | No  | No internet service | ⋯ | No internet service | No internet service | No internet service | No internet service | Two year | No  | Mailed check              | 20.00 | NA | No |\n| 2923-ARZLG | Male   | 0 | Yes | Yes | 0 | Yes | No               | No  | No internet service | ⋯ | No internet service | No internet service | No internet service | No internet service | One year | Yes | Mailed check              | 19.70 | NA | No |\n| 4075-WKNIU | Female | 0 | Yes | Yes | 0 | Yes | Yes              | DSL | No                  | ⋯ | Yes                 | Yes                 | Yes                 | No                  | Two year | No  | Mailed check              | 73.35 | NA | No |\n| 2775-SEFEE | Male   | 0 | No  | Yes | 0 | Yes | Yes              | DSL | Yes                 | ⋯ | No                  | Yes                 | No                  | No                  | Two year | Yes | Bank transfer (automatic) | 61.90 | NA | No |\n\n",
            "text/latex": "A data.frame: 11 × 21\n\\begin{tabular}{lllllllllllllllllllll}\n customerID & gender & SeniorCitizen & Partner & Dependents & tenure & PhoneService & MultipleLines & InternetService & OnlineSecurity & ⋯ & DeviceProtection & TechSupport & StreamingTV & StreamingMovies & Contract & PaperlessBilling & PaymentMethod & MonthlyCharges & TotalCharges & Churn\\\\\n <chr> & <chr> & <int> & <chr> & <chr> & <int> & <chr> & <chr> & <chr> & <chr> & ⋯ & <chr> & <chr> & <chr> & <chr> & <chr> & <chr> & <chr> & <dbl> & <dbl> & <chr>\\\\\n\\hline\n\t 4472-LVYGI & Female & 0 & Yes & Yes & 0 & No  & No phone service & DSL & Yes                 & ⋯ & Yes                 & Yes                 & Yes                 & No                  & Two year & Yes & Bank transfer (automatic) & 52.55 & NA & No\\\\\n\t 3115-CZMZD & Male   & 0 & No  & Yes & 0 & Yes & No               & No  & No internet service & ⋯ & No internet service & No internet service & No internet service & No internet service & Two year & No  & Mailed check              & 20.25 & NA & No\\\\\n\t 5709-LVOEQ & Female & 0 & Yes & Yes & 0 & Yes & No               & DSL & Yes                 & ⋯ & Yes                 & No                  & Yes                 & Yes                 & Two year & No  & Mailed check              & 80.85 & NA & No\\\\\n\t 4367-NUYAO & Male   & 0 & Yes & Yes & 0 & Yes & Yes              & No  & No internet service & ⋯ & No internet service & No internet service & No internet service & No internet service & Two year & No  & Mailed check              & 25.75 & NA & No\\\\\n\t 1371-DWPAZ & Female & 0 & Yes & Yes & 0 & No  & No phone service & DSL & Yes                 & ⋯ & Yes                 & Yes                 & Yes                 & No                  & Two year & No  & Credit card (automatic)   & 56.05 & NA & No\\\\\n\t 7644-OMVMY & Male   & 0 & Yes & Yes & 0 & Yes & No               & No  & No internet service & ⋯ & No internet service & No internet service & No internet service & No internet service & Two year & No  & Mailed check              & 19.85 & NA & No\\\\\n\t 3213-VVOLG & Male   & 0 & Yes & Yes & 0 & Yes & Yes              & No  & No internet service & ⋯ & No internet service & No internet service & No internet service & No internet service & Two year & No  & Mailed check              & 25.35 & NA & No\\\\\n\t 2520-SGTTA & Female & 0 & Yes & Yes & 0 & Yes & No               & No  & No internet service & ⋯ & No internet service & No internet service & No internet service & No internet service & Two year & No  & Mailed check              & 20.00 & NA & No\\\\\n\t 2923-ARZLG & Male   & 0 & Yes & Yes & 0 & Yes & No               & No  & No internet service & ⋯ & No internet service & No internet service & No internet service & No internet service & One year & Yes & Mailed check              & 19.70 & NA & No\\\\\n\t 4075-WKNIU & Female & 0 & Yes & Yes & 0 & Yes & Yes              & DSL & No                  & ⋯ & Yes                 & Yes                 & Yes                 & No                  & Two year & No  & Mailed check              & 73.35 & NA & No\\\\\n\t 2775-SEFEE & Male   & 0 & No  & Yes & 0 & Yes & Yes              & DSL & Yes                 & ⋯ & No                  & Yes                 & No                  & No                  & Two year & Yes & Bank transfer (automatic) & 61.90 & NA & No\\\\\n\\end{tabular}\n",
            "text/plain": [
              "   customerID gender SeniorCitizen Partner Dependents tenure PhoneService\n",
              "1  4472-LVYGI Female 0             Yes     Yes        0      No          \n",
              "2  3115-CZMZD Male   0             No      Yes        0      Yes         \n",
              "3  5709-LVOEQ Female 0             Yes     Yes        0      Yes         \n",
              "4  4367-NUYAO Male   0             Yes     Yes        0      Yes         \n",
              "5  1371-DWPAZ Female 0             Yes     Yes        0      No          \n",
              "6  7644-OMVMY Male   0             Yes     Yes        0      Yes         \n",
              "7  3213-VVOLG Male   0             Yes     Yes        0      Yes         \n",
              "8  2520-SGTTA Female 0             Yes     Yes        0      Yes         \n",
              "9  2923-ARZLG Male   0             Yes     Yes        0      Yes         \n",
              "10 4075-WKNIU Female 0             Yes     Yes        0      Yes         \n",
              "11 2775-SEFEE Male   0             No      Yes        0      Yes         \n",
              "   MultipleLines    InternetService OnlineSecurity      ⋯ DeviceProtection   \n",
              "1  No phone service DSL             Yes                 ⋯ Yes                \n",
              "2  No               No              No internet service ⋯ No internet service\n",
              "3  No               DSL             Yes                 ⋯ Yes                \n",
              "4  Yes              No              No internet service ⋯ No internet service\n",
              "5  No phone service DSL             Yes                 ⋯ Yes                \n",
              "6  No               No              No internet service ⋯ No internet service\n",
              "7  Yes              No              No internet service ⋯ No internet service\n",
              "8  No               No              No internet service ⋯ No internet service\n",
              "9  No               No              No internet service ⋯ No internet service\n",
              "10 Yes              DSL             No                  ⋯ Yes                \n",
              "11 Yes              DSL             Yes                 ⋯ No                 \n",
              "   TechSupport         StreamingTV         StreamingMovies     Contract\n",
              "1  Yes                 Yes                 No                  Two year\n",
              "2  No internet service No internet service No internet service Two year\n",
              "3  No                  Yes                 Yes                 Two year\n",
              "4  No internet service No internet service No internet service Two year\n",
              "5  Yes                 Yes                 No                  Two year\n",
              "6  No internet service No internet service No internet service Two year\n",
              "7  No internet service No internet service No internet service Two year\n",
              "8  No internet service No internet service No internet service Two year\n",
              "9  No internet service No internet service No internet service One year\n",
              "10 Yes                 Yes                 No                  Two year\n",
              "11 Yes                 No                  No                  Two year\n",
              "   PaperlessBilling PaymentMethod             MonthlyCharges TotalCharges Churn\n",
              "1  Yes              Bank transfer (automatic) 52.55          NA           No   \n",
              "2  No               Mailed check              20.25          NA           No   \n",
              "3  No               Mailed check              80.85          NA           No   \n",
              "4  No               Mailed check              25.75          NA           No   \n",
              "5  No               Credit card (automatic)   56.05          NA           No   \n",
              "6  No               Mailed check              19.85          NA           No   \n",
              "7  No               Mailed check              25.35          NA           No   \n",
              "8  No               Mailed check              20.00          NA           No   \n",
              "9  Yes              Mailed check              19.70          NA           No   \n",
              "10 No               Mailed check              73.35          NA           No   \n",
              "11 Yes              Bank transfer (automatic) 61.90          NA           No   "
            ]
          },
          "metadata": {}
        }
      ]
    },
    {
      "cell_type": "code",
      "source": [
        "write.csv(df,\"WA_Fn-UseC_-Telco-Customer-Churn.csv\", row.names = FALSE)"
      ],
      "metadata": {
        "id": "VuVxDlg-lK0_"
      },
      "id": "VuVxDlg-lK0_",
      "execution_count": null,
      "outputs": []
    },
    {
      "cell_type": "code",
      "source": [
        "# convert totalCharges into num. non-num will change to NA\n",
        "# @ suppress alarms could appear\n",
        "df$TotalCharges = suppressWarnings(as.numeric(df$TotalCharges))\n"
      ],
      "metadata": {
        "id": "ZFg7YtnynYlY"
      },
      "id": "ZFg7YtnynYlY",
      "execution_count": null,
      "outputs": []
    },
    {
      "cell_type": "code",
      "source": [
        "# check missing values after check\n",
        "sum(is.na(df$TotalCharges))"
      ],
      "metadata": {
        "colab": {
          "base_uri": "https://localhost:8080/",
          "height": 34
        },
        "id": "GnonMtYJoZAX",
        "outputId": "35940aa7-b3a7-4cd9-a145-5b6a05e5a270"
      },
      "id": "GnonMtYJoZAX",
      "execution_count": null,
      "outputs": [
        {
          "output_type": "display_data",
          "data": {
            "text/html": [
              "11"
            ],
            "text/markdown": "11",
            "text/latex": "11",
            "text/plain": [
              "[1] 11"
            ]
          },
          "metadata": {}
        }
      ]
    },
    {
      "cell_type": "code",
      "source": [
        "# print missing values line in TotalCharges\n",
        "df %>% filter(is.na(df$TotalCharges)) %>% select(tenure, MonthlyCharges, TotalCharges)"
      ],
      "metadata": {
        "colab": {
          "base_uri": "https://localhost:8080/",
          "height": 443
        },
        "id": "4rt4XPvhoeAN",
        "outputId": "c19a3a87-d49d-4f69-ef80-2f27a02a7bd7",
        "collapsed": true
      },
      "id": "4rt4XPvhoeAN",
      "execution_count": null,
      "outputs": [
        {
          "output_type": "display_data",
          "data": {
            "text/html": [
              "<table class=\"dataframe\">\n",
              "<caption>A data.frame: 11 × 3</caption>\n",
              "<thead>\n",
              "\t<tr><th scope=col>tenure</th><th scope=col>MonthlyCharges</th><th scope=col>TotalCharges</th></tr>\n",
              "\t<tr><th scope=col>&lt;int&gt;</th><th scope=col>&lt;dbl&gt;</th><th scope=col>&lt;dbl&gt;</th></tr>\n",
              "</thead>\n",
              "<tbody>\n",
              "\t<tr><td>0</td><td>52.55</td><td>NA</td></tr>\n",
              "\t<tr><td>0</td><td>20.25</td><td>NA</td></tr>\n",
              "\t<tr><td>0</td><td>80.85</td><td>NA</td></tr>\n",
              "\t<tr><td>0</td><td>25.75</td><td>NA</td></tr>\n",
              "\t<tr><td>0</td><td>56.05</td><td>NA</td></tr>\n",
              "\t<tr><td>0</td><td>19.85</td><td>NA</td></tr>\n",
              "\t<tr><td>0</td><td>25.35</td><td>NA</td></tr>\n",
              "\t<tr><td>0</td><td>20.00</td><td>NA</td></tr>\n",
              "\t<tr><td>0</td><td>19.70</td><td>NA</td></tr>\n",
              "\t<tr><td>0</td><td>73.35</td><td>NA</td></tr>\n",
              "\t<tr><td>0</td><td>61.90</td><td>NA</td></tr>\n",
              "</tbody>\n",
              "</table>\n"
            ],
            "text/markdown": "\nA data.frame: 11 × 3\n\n| tenure &lt;int&gt; | MonthlyCharges &lt;dbl&gt; | TotalCharges &lt;dbl&gt; |\n|---|---|---|\n| 0 | 52.55 | NA |\n| 0 | 20.25 | NA |\n| 0 | 80.85 | NA |\n| 0 | 25.75 | NA |\n| 0 | 56.05 | NA |\n| 0 | 19.85 | NA |\n| 0 | 25.35 | NA |\n| 0 | 20.00 | NA |\n| 0 | 19.70 | NA |\n| 0 | 73.35 | NA |\n| 0 | 61.90 | NA |\n\n",
            "text/latex": "A data.frame: 11 × 3\n\\begin{tabular}{lll}\n tenure & MonthlyCharges & TotalCharges\\\\\n <int> & <dbl> & <dbl>\\\\\n\\hline\n\t 0 & 52.55 & NA\\\\\n\t 0 & 20.25 & NA\\\\\n\t 0 & 80.85 & NA\\\\\n\t 0 & 25.75 & NA\\\\\n\t 0 & 56.05 & NA\\\\\n\t 0 & 19.85 & NA\\\\\n\t 0 & 25.35 & NA\\\\\n\t 0 & 20.00 & NA\\\\\n\t 0 & 19.70 & NA\\\\\n\t 0 & 73.35 & NA\\\\\n\t 0 & 61.90 & NA\\\\\n\\end{tabular}\n",
            "text/plain": [
              "   tenure MonthlyCharges TotalCharges\n",
              "1  0      52.55          NA          \n",
              "2  0      20.25          NA          \n",
              "3  0      80.85          NA          \n",
              "4  0      25.75          NA          \n",
              "5  0      56.05          NA          \n",
              "6  0      19.85          NA          \n",
              "7  0      25.35          NA          \n",
              "8  0      20.00          NA          \n",
              "9  0      19.70          NA          \n",
              "10 0      73.35          NA          \n",
              "11 0      61.90          NA          "
            ]
          },
          "metadata": {}
        }
      ]
    },
    {
      "cell_type": "code",
      "source": [
        "# change NA to 0\n",
        "df$TotalCharges[is.na(df$TotalCharges)] = 0"
      ],
      "metadata": {
        "id": "o_ZSA6M7tUWG"
      },
      "id": "o_ZSA6M7tUWG",
      "execution_count": null,
      "outputs": []
    },
    {
      "cell_type": "code",
      "source": [
        "# check TotalCharges\n",
        "df %>% filter(df$TotalCharges == 0) %>% select(tenure, MonthlyCharges, TotalCharges)"
      ],
      "metadata": {
        "colab": {
          "base_uri": "https://localhost:8080/",
          "height": 443
        },
        "id": "j6ZmyJN2teVw",
        "outputId": "cae31dd7-22af-4f45-89e5-871e8090f491",
        "collapsed": true
      },
      "id": "j6ZmyJN2teVw",
      "execution_count": null,
      "outputs": [
        {
          "output_type": "display_data",
          "data": {
            "text/html": [
              "<table class=\"dataframe\">\n",
              "<caption>A data.frame: 11 × 3</caption>\n",
              "<thead>\n",
              "\t<tr><th scope=col>tenure</th><th scope=col>MonthlyCharges</th><th scope=col>TotalCharges</th></tr>\n",
              "\t<tr><th scope=col>&lt;int&gt;</th><th scope=col>&lt;dbl&gt;</th><th scope=col>&lt;dbl&gt;</th></tr>\n",
              "</thead>\n",
              "<tbody>\n",
              "\t<tr><td>0</td><td>52.55</td><td>0</td></tr>\n",
              "\t<tr><td>0</td><td>20.25</td><td>0</td></tr>\n",
              "\t<tr><td>0</td><td>80.85</td><td>0</td></tr>\n",
              "\t<tr><td>0</td><td>25.75</td><td>0</td></tr>\n",
              "\t<tr><td>0</td><td>56.05</td><td>0</td></tr>\n",
              "\t<tr><td>0</td><td>19.85</td><td>0</td></tr>\n",
              "\t<tr><td>0</td><td>25.35</td><td>0</td></tr>\n",
              "\t<tr><td>0</td><td>20.00</td><td>0</td></tr>\n",
              "\t<tr><td>0</td><td>19.70</td><td>0</td></tr>\n",
              "\t<tr><td>0</td><td>73.35</td><td>0</td></tr>\n",
              "\t<tr><td>0</td><td>61.90</td><td>0</td></tr>\n",
              "</tbody>\n",
              "</table>\n"
            ],
            "text/markdown": "\nA data.frame: 11 × 3\n\n| tenure &lt;int&gt; | MonthlyCharges &lt;dbl&gt; | TotalCharges &lt;dbl&gt; |\n|---|---|---|\n| 0 | 52.55 | 0 |\n| 0 | 20.25 | 0 |\n| 0 | 80.85 | 0 |\n| 0 | 25.75 | 0 |\n| 0 | 56.05 | 0 |\n| 0 | 19.85 | 0 |\n| 0 | 25.35 | 0 |\n| 0 | 20.00 | 0 |\n| 0 | 19.70 | 0 |\n| 0 | 73.35 | 0 |\n| 0 | 61.90 | 0 |\n\n",
            "text/latex": "A data.frame: 11 × 3\n\\begin{tabular}{lll}\n tenure & MonthlyCharges & TotalCharges\\\\\n <int> & <dbl> & <dbl>\\\\\n\\hline\n\t 0 & 52.55 & 0\\\\\n\t 0 & 20.25 & 0\\\\\n\t 0 & 80.85 & 0\\\\\n\t 0 & 25.75 & 0\\\\\n\t 0 & 56.05 & 0\\\\\n\t 0 & 19.85 & 0\\\\\n\t 0 & 25.35 & 0\\\\\n\t 0 & 20.00 & 0\\\\\n\t 0 & 19.70 & 0\\\\\n\t 0 & 73.35 & 0\\\\\n\t 0 & 61.90 & 0\\\\\n\\end{tabular}\n",
            "text/plain": [
              "   tenure MonthlyCharges TotalCharges\n",
              "1  0      52.55          0           \n",
              "2  0      20.25          0           \n",
              "3  0      80.85          0           \n",
              "4  0      25.75          0           \n",
              "5  0      56.05          0           \n",
              "6  0      19.85          0           \n",
              "7  0      25.35          0           \n",
              "8  0      20.00          0           \n",
              "9  0      19.70          0           \n",
              "10 0      73.35          0           \n",
              "11 0      61.90          0           "
            ]
          },
          "metadata": {}
        }
      ]
    },
    {
      "cell_type": "code",
      "source": [
        "df$SeniorCitizen = as.factor(ifelse(df$SeniorCitizen == 1, \"Yes\", \"No\"))"
      ],
      "metadata": {
        "id": "iXFb8akktm8P"
      },
      "id": "iXFb8akktm8P",
      "execution_count": null,
      "outputs": []
    },
    {
      "cell_type": "code",
      "source": [
        "summary(df)"
      ],
      "metadata": {
        "colab": {
          "base_uri": "https://localhost:8080/",
          "height": 779
        },
        "id": "B1t5_q09vivj",
        "outputId": "bd215910-5ec0-4b1f-b939-278d46789d51",
        "collapsed": true
      },
      "id": "B1t5_q09vivj",
      "execution_count": null,
      "outputs": [
        {
          "output_type": "display_data",
          "data": {
            "text/plain": [
              "  customerID           gender          SeniorCitizen   Partner         \n",
              " Length:7043        Length:7043        No :5901      Length:7043       \n",
              " Class :character   Class :character   Yes:1142      Class :character  \n",
              " Mode  :character   Mode  :character                 Mode  :character  \n",
              "                                                                       \n",
              "                                                                       \n",
              "                                                                       \n",
              "  Dependents            tenure      PhoneService       MultipleLines     \n",
              " Length:7043        Min.   : 0.00   Length:7043        Length:7043       \n",
              " Class :character   1st Qu.: 9.00   Class :character   Class :character  \n",
              " Mode  :character   Median :29.00   Mode  :character   Mode  :character  \n",
              "                    Mean   :32.37                                        \n",
              "                    3rd Qu.:55.00                                        \n",
              "                    Max.   :72.00                                        \n",
              " InternetService    OnlineSecurity     OnlineBackup       DeviceProtection  \n",
              " Length:7043        Length:7043        Length:7043        Length:7043       \n",
              " Class :character   Class :character   Class :character   Class :character  \n",
              " Mode  :character   Mode  :character   Mode  :character   Mode  :character  \n",
              "                                                                            \n",
              "                                                                            \n",
              "                                                                            \n",
              " TechSupport        StreamingTV        StreamingMovies      Contract        \n",
              " Length:7043        Length:7043        Length:7043        Length:7043       \n",
              " Class :character   Class :character   Class :character   Class :character  \n",
              " Mode  :character   Mode  :character   Mode  :character   Mode  :character  \n",
              "                                                                            \n",
              "                                                                            \n",
              "                                                                            \n",
              " PaperlessBilling   PaymentMethod      MonthlyCharges    TotalCharges   \n",
              " Length:7043        Length:7043        Min.   : 18.25   Min.   :   0.0  \n",
              " Class :character   Class :character   1st Qu.: 35.50   1st Qu.: 398.6  \n",
              " Mode  :character   Mode  :character   Median : 70.35   Median :1394.5  \n",
              "                                       Mean   : 64.76   Mean   :2279.7  \n",
              "                                       3rd Qu.: 89.85   3rd Qu.:3786.6  \n",
              "                                       Max.   :118.75   Max.   :8684.8  \n",
              "    Churn          \n",
              " Length:7043       \n",
              " Class :character  \n",
              " Mode  :character  \n",
              "                   \n",
              "                   \n",
              "                   "
            ]
          },
          "metadata": {}
        }
      ]
    },
    {
      "cell_type": "code",
      "source": [
        "library(ggplot2)\n",
        "ggplot(df, aes(x = Churn, fill = Churn)) +\n",
        "  geom_bar() +\n",
        "  ggtitle(\"distribution of leave customer (Churn)\") +\n",
        "  geom_text(stat='count', aes(label=..count..), vjust=-0.5) +\n",
        "  theme_minimal()"
      ],
      "metadata": {
        "colab": {
          "base_uri": "https://localhost:8080/",
          "height": 437
        },
        "id": "EEQGWLNJvbgs",
        "outputId": "51061a1e-0ebc-4807-92fe-7f940ab159a0",
        "collapsed": true
      },
      "id": "EEQGWLNJvbgs",
      "execution_count": null,
      "outputs": [
        {
          "output_type": "display_data",
          "data": {
            "text/plain": [
              "plot without title"
            ],
            "image/png": "[encoded data removed]"
          },
          "metadata": {
            "image/png": {
              "width": 420,
              "height": 420
            }
          }
        }
      ]
    },
    {
      "cell_type": "code",
      "source": [
        "# create automatic EDA\n",
        "create_report(df, output_file = \"churn_eda_report.html\", y=\"Churn\")"
      ],
      "metadata": {
        "id": "2Txaw9OLgoJ9",
        "colab": {
          "base_uri": "https://localhost:8080/"
        },
        "collapsed": true,
        "outputId": "9fd511c3-a977-48fd-f860-c40d60513811"
      },
      "id": "2Txaw9OLgoJ9",
      "execution_count": null,
      "outputs": [
        {
          "output_type": "stream",
          "name": "stderr",
          "text": [
            "\n",
            "\n",
            "processing file: report.rmd\n",
            "\n"
          ]
        },
        {
          "output_type": "stream",
          "name": "stdout",
          "text": [
            "1/42                                 \n",
            "2/42 [global_options]                \n",
            "3/42                                 \n",
            "4/42 [introduce]                     \n",
            "5/42                                 \n",
            "6/42 [plot_intro]                    \n",
            "7/42                                 \n",
            "8/42 [data_structure]                \n",
            "9/42                                 \n",
            "10/42 [missing_profile]               \n",
            "11/42                                 \n",
            "12/42 [univariate_distribution_header]\n",
            "13/42                                 \n",
            "14/42 [plot_histogram]                \n",
            "15/42                                 \n",
            "16/42 [plot_density]                  \n",
            "17/42                                 \n",
            "18/42 [plot_frequency_bar]            \n",
            "19/42                                 \n",
            "20/42 [plot_response_bar]             \n",
            "21/42                                 \n",
            "22/42 [plot_with_bar]                 \n",
            "23/42                                 \n",
            "24/42 [plot_normal_qq]                \n",
            "25/42                                 \n",
            "26/42 [plot_response_qq]              \n",
            "27/42                                 \n",
            "28/42 [plot_by_qq]                    \n",
            "29/42                                 \n",
            "30/42 [correlation_analysis]          \n",
            "31/42                                 \n",
            "32/42 [principal_component_analysis]  \n",
            "33/42                                 \n",
            "34/42 [bivariate_distribution_header] \n",
            "35/42                                 \n",
            "36/42 [plot_response_boxplot]         \n",
            "37/42                                 \n",
            "38/42 [plot_by_boxplot]               \n",
            "39/42                                 \n",
            "40/42 [plot_response_scatterplot]     \n",
            "41/42                                 \n",
            "42/42 [plot_by_scatterplot]           \n"
          ]
        },
        {
          "output_type": "stream",
          "name": "stderr",
          "text": [
            "output file: /content/report.knit.md\n",
            "\n",
            "\n"
          ]
        },
        {
          "output_type": "stream",
          "name": "stdout",
          "text": [
            "/usr/bin/pandoc +RTS -K512m -RTS /content/report.knit.md --to html4 --from markdown+autolink_bare_uris+tex_math_single_backslash --output /content/churn_eda_report.html --lua-filter /usr/lib/R/site-library/rmarkdown/rmarkdown/lua/pagebreak.lua --lua-filter /usr/lib/R/site-library/rmarkdown/rmarkdown/lua/latex-div.lua --self-contained --variable bs3=TRUE --section-divs --table-of-contents --toc-depth 6 --template /usr/lib/R/site-library/rmarkdown/rmd/h/default.html --no-highlight --variable highlightjs=1 --variable theme=yeti --mathjax --variable 'mathjax-url=https://mathjax.rstudio.com/latest/MathJax.js?config=TeX-AMS-MML_HTMLorMML' --include-in-header /tmp/Rtmp3q0lSY/rmarkdown-str9c2710be92.html \n"
          ]
        },
        {
          "output_type": "stream",
          "name": "stderr",
          "text": [
            "\n",
            "Output created: churn_eda_report.html\n",
            "\n"
          ]
        }
      ]
    },
    {
      "cell_type": "code",
      "source": [
        "#Mount google drive\n",
        "from google.colab import drive\n",
        "drive.mount('/content/drive')"
      ],
      "metadata": {
        "id": "YDBWhAAFDIm5"
      },
      "id": "YDBWhAAFDIm5",
      "execution_count": null,
      "outputs": []
    },
    {
      "cell_type": "code",
      "source": [
        "from google.colab import drive\n",
        "drive.mount('/content/drive')"
      ],
      "metadata": {
        "id": "co8NkGM6Drkc"
      },
      "id": "co8NkGM6Drkc",
      "execution_count": null,
      "outputs": []
    },
    {
      "cell_type": "markdown",
      "source": [
        "# Mục Lục\n",
        "## 2.1 PreProcessing - Featuring engineering"
      ],
      "metadata": {
        "id": "ioj9R1OA4JKi"
      },
      "id": "ioj9R1OA4JKi"
    },
    {
      "cell_type": "markdown",
      "source": [
        "### Preprocessing - featuring engineering\n",
        "\n"
      ],
      "metadata": {
        "id": "J2hG44ynybzt"
      },
      "id": "J2hG44ynybzt"
    },
    {
      "cell_type": "markdown",
      "source": [
        "Dưới đây là Tôi sẽ trình bày bằng text, phòng trường hợp ae bận ko họp đc :((, tôi sẽ cố gắng trình bày theo ý hiểu sau khi đọc từ mentor hướng dẫn tôi."
      ],
      "metadata": {
        "id": "gYuyA5mcvI3t"
      },
      "id": "gYuyA5mcvI3t"
    },
    {
      "cell_type": "markdown",
      "source": [
        "#### Mục tiêu: mô hình dự đoán chính xác tới 80%\n",
        "1. Sơ qua về hiểu EDA có vai trò gì cho việc xây dựng mô hình?\n",
        "- Sau khi mình khai phá dữ liệu, tức là mình gom được thông tin về dữ liệu có ảnh hưởng đến khả năng khách hàng rời đi. Từ đấy thì mình biết là khả năng nó rời đi là do đâu, mình đặt ra hypothesis, nên mình cũng sẽ train và đánh giá ở dưới, tức là có kế hoạch là xét đặc biệt quan hệ với cột dữ liệu nào.\n",
        "\n",
        "2. Sau EDA, preprocessing: mục đích chính ?\n",
        "- Sau khi mà mình có các thông tin, bước đầu là chuẩn bị dữ liệu để mình xây dựng mô hình đánh giá cho chuẩn, cho chính xác, vì thông tin có thể có lỗi, thiếu, sai định dạng.\n",
        "  - Chuẩn bị để xây chuẩn vì: máy nó không hiểu text nên thường phải chuyển data sang số.\n",
        "  - Phải đưa các feature (đặc trưng) về cùng một thang đo để nó không bị thiên vị quá hay bị lệch về một bên quá nhiều. Quy tắc thì các feature phải được cho về 1 thang đo.\n",
        "      - Ví dụ: không thể dùng cả tenure và totalCharges khi chưa cho về cùng thàng đo cho vào test thuật toán về xác suất rời bỏ, vì chúng có giá trị lệch nhau rõ ràng, thì nó thấy tổng tiền nhiều nên tưởng nó quan trọng hơn\n",
        "  - Mình có tiền xử lý về để cho dữ liệu dùng hiệu quả ví dụ loại bỏ một cột, thì cũng giúp thuật toán nó tìm thông tin cần nhanh hơn, cái nào không ảnh hưởng thì bỏ đi"
      ],
      "metadata": {
        "id": "4mbUHDBwugTj"
      },
      "id": "4mbUHDBwugTj"
    },
    {
      "cell_type": "markdown",
      "source": [
        "2.1.1 Preprocessing"
      ],
      "metadata": {
        "id": "Ve-z1xQB4ljk"
      },
      "id": "Ve-z1xQB4ljk"
    },
    {
      "cell_type": "code",
      "source": [
        "df = read.csv(\"WA_Fn-UseC_-Telco-Customer-Churn.csv\")"
      ],
      "metadata": {
        "id": "yVN0_mkIaznE"
      },
      "id": "yVN0_mkIaznE",
      "execution_count": null,
      "outputs": []
    },
    {
      "cell_type": "code",
      "source": [
        "str(df)"
      ],
      "metadata": {
        "colab": {
          "base_uri": "https://localhost:8080/"
        },
        "collapsed": true,
        "id": "VXNx9jQxagd3",
        "outputId": "1aaeca19-a853-448e-ad8c-c7ca8a864369"
      },
      "id": "VXNx9jQxagd3",
      "execution_count": null,
      "outputs": [
        {
          "output_type": "stream",
          "name": "stdout",
          "text": [
            "'data.frame':\t7043 obs. of  19 variables:\n",
            " $ gender          : chr  \"Female\" \"Male\" \"Male\" \"Male\" ...\n",
            " $ SeniorCitizen   : int  0 0 0 0 0 0 0 0 0 0 ...\n",
            " $ Partner         : chr  \"Yes\" \"No\" \"No\" \"No\" ...\n",
            " $ Dependents      : chr  \"No\" \"No\" \"No\" \"No\" ...\n",
            " $ tenure          : int  1 34 2 45 2 8 22 10 28 62 ...\n",
            " $ PhoneService    : chr  \"No\" \"Yes\" \"Yes\" \"No\" ...\n",
            " $ MultipleLines   : chr  \"No phone service\" \"No\" \"No\" \"No phone service\" ...\n",
            " $ InternetService : chr  \"DSL\" \"DSL\" \"DSL\" \"DSL\" ...\n",
            " $ OnlineSecurity  : chr  \"No\" \"Yes\" \"Yes\" \"Yes\" ...\n",
            " $ OnlineBackup    : chr  \"Yes\" \"No\" \"Yes\" \"No\" ...\n",
            " $ DeviceProtection: chr  \"No\" \"Yes\" \"No\" \"Yes\" ...\n",
            " $ TechSupport     : chr  \"No\" \"No\" \"No\" \"Yes\" ...\n",
            " $ StreamingTV     : chr  \"No\" \"No\" \"No\" \"No\" ...\n",
            " $ StreamingMovies : chr  \"No\" \"No\" \"No\" \"No\" ...\n",
            " $ Contract        : chr  \"Month-to-month\" \"One year\" \"Month-to-month\" \"One year\" ...\n",
            " $ PaperlessBilling: chr  \"Yes\" \"No\" \"Yes\" \"No\" ...\n",
            " $ PaymentMethod   : chr  \"Electronic check\" \"Mailed check\" \"Mailed check\" \"Bank transfer (automatic)\" ...\n",
            " $ MonthlyCharges  : num  29.9 57 53.9 42.3 70.7 ...\n",
            " $ Churn           : chr  \"No\" \"No\" \"Yes\" \"No\" ...\n"
          ]
        }
      ]
    },
    {
      "cell_type": "code",
      "source": [
        "# kiểm tra missing value\n",
        "colSums(is.na(df))\n"
      ],
      "metadata": {
        "colab": {
          "base_uri": "https://localhost:8080/",
          "height": 104
        },
        "id": "tXIbKEL2tIXC",
        "outputId": "dde0e2a8-ccc4-442d-c3d9-f7da9655e4d6"
      },
      "id": "tXIbKEL2tIXC",
      "execution_count": null,
      "outputs": [
        {
          "output_type": "display_data",
          "data": {
            "text/html": [
              "<style>\n",
              ".dl-inline {width: auto; margin:0; padding: 0}\n",
              ".dl-inline>dt, .dl-inline>dd {float: none; width: auto; display: inline-block}\n",
              ".dl-inline>dt::after {content: \":\\0020\"; padding-right: .5ex}\n",
              ".dl-inline>dt:not(:first-of-type) {padding-left: .5ex}\n",
              "</style><dl class=dl-inline><dt>customerID</dt><dd>0</dd><dt>gender</dt><dd>0</dd><dt>SeniorCitizen</dt><dd>0</dd><dt>Partner</dt><dd>0</dd><dt>Dependents</dt><dd>0</dd><dt>tenure</dt><dd>0</dd><dt>PhoneService</dt><dd>0</dd><dt>MultipleLines</dt><dd>0</dd><dt>InternetService</dt><dd>0</dd><dt>OnlineSecurity</dt><dd>0</dd><dt>OnlineBackup</dt><dd>0</dd><dt>DeviceProtection</dt><dd>0</dd><dt>TechSupport</dt><dd>0</dd><dt>StreamingTV</dt><dd>0</dd><dt>StreamingMovies</dt><dd>0</dd><dt>Contract</dt><dd>0</dd><dt>PaperlessBilling</dt><dd>0</dd><dt>PaymentMethod</dt><dd>0</dd><dt>MonthlyCharges</dt><dd>0</dd><dt>TotalCharges</dt><dd>11</dd><dt>Churn</dt><dd>0</dd></dl>\n"
            ],
            "text/markdown": "customerID\n:   0gender\n:   0SeniorCitizen\n:   0Partner\n:   0Dependents\n:   0tenure\n:   0PhoneService\n:   0MultipleLines\n:   0InternetService\n:   0OnlineSecurity\n:   0OnlineBackup\n:   0DeviceProtection\n:   0TechSupport\n:   0StreamingTV\n:   0StreamingMovies\n:   0Contract\n:   0PaperlessBilling\n:   0PaymentMethod\n:   0MonthlyCharges\n:   0TotalCharges\n:   11Churn\n:   0\n\n",
            "text/latex": "\\begin{description*}\n\\item[customerID] 0\n\\item[gender] 0\n\\item[SeniorCitizen] 0\n\\item[Partner] 0\n\\item[Dependents] 0\n\\item[tenure] 0\n\\item[PhoneService] 0\n\\item[MultipleLines] 0\n\\item[InternetService] 0\n\\item[OnlineSecurity] 0\n\\item[OnlineBackup] 0\n\\item[DeviceProtection] 0\n\\item[TechSupport] 0\n\\item[StreamingTV] 0\n\\item[StreamingMovies] 0\n\\item[Contract] 0\n\\item[PaperlessBilling] 0\n\\item[PaymentMethod] 0\n\\item[MonthlyCharges] 0\n\\item[TotalCharges] 11\n\\item[Churn] 0\n\\end{description*}\n",
            "text/plain": [
              "      customerID           gender    SeniorCitizen          Partner \n",
              "               0                0                0                0 \n",
              "      Dependents           tenure     PhoneService    MultipleLines \n",
              "               0                0                0                0 \n",
              " InternetService   OnlineSecurity     OnlineBackup DeviceProtection \n",
              "               0                0                0                0 \n",
              "     TechSupport      StreamingTV  StreamingMovies         Contract \n",
              "               0                0                0                0 \n",
              "PaperlessBilling    PaymentMethod   MonthlyCharges     TotalCharges \n",
              "               0                0                0               11 \n",
              "           Churn \n",
              "               0 "
            ]
          },
          "metadata": {}
        }
      ]
    },
    {
      "cell_type": "code",
      "source": [
        "# xem tổng quan biến mục tiêu churn\n",
        "library(ggplot2)\n",
        "\n",
        "ggplot(df, aes(x = Churn, fill = Churn)) +\n",
        "  geom_bar() +\n",
        "    labs(title =\"Phân phối của biến mục tiêu Churn\") +\n",
        "    theme_classic()"
      ],
      "metadata": {
        "colab": {
          "base_uri": "https://localhost:8080/",
          "height": 437
        },
        "id": "jk4XG2L3f6DG",
        "outputId": "07a14dec-b726-44d5-dce7-f4331df6aaf2"
      },
      "id": "jk4XG2L3f6DG",
      "execution_count": null,
      "outputs": [
        {
          "output_type": "display_data",
          "data": {
            "text/plain": [
              "plot without title"
            ],
            "image/png": "[encoded data removed]"
          },
          "metadata": {
            "image/png": {
              "width": 420,
              "height": 420
            }
          }
        }
      ]
    },
    {
      "cell_type": "markdown",
      "source": [
        "Output: có thể thấy no nhiều hơn yes rất nhiều, khá mất cân bằng.\n",
        "* Nếu train mô hình với No nhiều hơn thì sẽ không thể xác định chính xác về số lượng sẽ rời đi, độ chính xác No sẽ cao, và thực tế thì sẽ bỏ sót hết khách hàng có nguy cơ rời đi. Nếu dùng accuracy để đo, thì mô hình này đảm bảo tỷ lệ rời sẽ rất thấp, mà ko lấy ra được quy luật hay lý do cụ thể hơn về khả năng rời đi.\n",
        "\n",
        "\n",
        "* Kế hoạch xử lý: vấn đền này sẽ được xử lý ở giai đoạn huấn luyện và đánh giá\n",
        "  * Cụ thể:  \n",
        "    * xét đến metric ROC Curve và AUC (Area Under the Curve)"
      ],
      "metadata": {
        "id": "oF509qdyhSW6"
      },
      "id": "oF509qdyhSW6"
    },
    {
      "cell_type": "markdown",
      "source": [
        "#### Accuracy là gì ?\n",
        "* là tỷ lệ đoán đúng.\n",
        "* Trong EDA, Accuracy giúp kiểm tra độ chuẩn: mô hình có thể sai nếu không xử lý mất cân bằng\n",
        "* Nếu dùng accuracy không khả thi để xử lý phần mất cân bằng do dữ liệu lệch quá nhiều thì sẽ phải xem xét các metric khác như AUC, Recall hoặc SMOTE, stratified sampling, etc.\n",
        "* Trong ML: Diagnostic not Optimization\n",
        "  * Dùng để chuẩn đoán hiệu suất trong quá trinh phân tích.\n",
        "  * Sau đó nó mới xét đến các metric (chỉ số đánh giá) thực sự phản ánh cái chất lượng khi có sự mất cân bằng ở đây, dùng mấy cái như AUC-ROC, Precision, Recall, F1, etc."
      ],
      "metadata": {
        "id": "7a3luz7rEiuY"
      },
      "id": "7a3luz7rEiuY"
    },
    {
      "cell_type": "markdown",
      "source": [
        "#### Đường cong AUC-ROC trong học máy\n",
        "\n",
        "Dùng để kiểm tra độ hiệu quả hoạt động cho dạng bài phân loại nhị phân (binary classification).\n",
        "Giúp hiểu mô hình phân tách churn 2 th No và Yes ở các ngưỡng khác nhau tốt như thế nào.\n",
        "  * Thể hiện bằng cách vẽ biểu đồ\n",
        "    * True Positive Rate (TPR): tần suất mô hình đoán đúng các trường hợp positive, hay đgl Sensitivity (độ nhạy) hoặc recall (độ thu hồi).\n",
        "    * False Positive Rate (FPR): tần suất mô hình đoán đúng các th negative như đoán các positive như trên.\n",
        "    * Specificity (độ đặc hiệu): đo lường tỷ lệ các kết quả âm tính thực tế mà mô hình xác định chính xác. Tỷ lệ này được tính bằng 1 - FPR.\n",
        "\n",
        "    AUC = 0.5, mô hình không học được gì, nó đoán bừa 50/50\n",
        "\n",
        "    AUC = 1, càng gần 1 tức là có sự phân loại tốt giữa No và Yes ở đây\n",
        "    \n",
        "\n"
      ],
      "metadata": {
        "id": "KuTQ97oPG84n"
      },
      "id": "KuTQ97oPG84n"
    },
    {
      "cell_type": "code",
      "source": [
        "# Để xử lý cần show ra các missing value ở row nào\n",
        "# check quan hệ với các col khác\n",
        "df %>% filter(is.na(TotalCharges))\n",
        "\n",
        "# %>% là toán tử đường ống pipeline\n",
        "# dùng để truyền kết quả của biếu thử bên trái sang bên phải, tức là mình truyền"
      ],
      "metadata": {
        "id": "g2Jx-_kP4BCi",
        "colab": {
          "base_uri": "https://localhost:8080/",
          "height": 654
        },
        "collapsed": true,
        "outputId": "e3693a48-4f04-4270-c39e-dbf352a1dd60"
      },
      "id": "g2Jx-_kP4BCi",
      "execution_count": null,
      "outputs": [
        {
          "output_type": "display_data",
          "data": {
            "text/html": [
              "<table class=\"dataframe\">\n",
              "<caption>A data.frame: 11 × 21</caption>\n",
              "<thead>\n",
              "\t<tr><th scope=col>customerID</th><th scope=col>gender</th><th scope=col>SeniorCitizen</th><th scope=col>Partner</th><th scope=col>Dependents</th><th scope=col>tenure</th><th scope=col>PhoneService</th><th scope=col>MultipleLines</th><th scope=col>InternetService</th><th scope=col>OnlineSecurity</th><th scope=col>⋯</th><th scope=col>DeviceProtection</th><th scope=col>TechSupport</th><th scope=col>StreamingTV</th><th scope=col>StreamingMovies</th><th scope=col>Contract</th><th scope=col>PaperlessBilling</th><th scope=col>PaymentMethod</th><th scope=col>MonthlyCharges</th><th scope=col>TotalCharges</th><th scope=col>Churn</th></tr>\n",
              "\t<tr><th scope=col>&lt;chr&gt;</th><th scope=col>&lt;chr&gt;</th><th scope=col>&lt;int&gt;</th><th scope=col>&lt;chr&gt;</th><th scope=col>&lt;chr&gt;</th><th scope=col>&lt;int&gt;</th><th scope=col>&lt;chr&gt;</th><th scope=col>&lt;chr&gt;</th><th scope=col>&lt;chr&gt;</th><th scope=col>&lt;chr&gt;</th><th scope=col>⋯</th><th scope=col>&lt;chr&gt;</th><th scope=col>&lt;chr&gt;</th><th scope=col>&lt;chr&gt;</th><th scope=col>&lt;chr&gt;</th><th scope=col>&lt;chr&gt;</th><th scope=col>&lt;chr&gt;</th><th scope=col>&lt;chr&gt;</th><th scope=col>&lt;dbl&gt;</th><th scope=col>&lt;dbl&gt;</th><th scope=col>&lt;chr&gt;</th></tr>\n",
              "</thead>\n",
              "<tbody>\n",
              "\t<tr><td>4472-LVYGI</td><td>Female</td><td>0</td><td>Yes</td><td>Yes</td><td>0</td><td>No </td><td>No phone service</td><td>DSL</td><td>Yes                </td><td>⋯</td><td>Yes                </td><td>Yes                </td><td>Yes                </td><td>No                 </td><td>Two year</td><td>Yes</td><td>Bank transfer (automatic)</td><td>52.55</td><td>NA</td><td>No</td></tr>\n",
              "\t<tr><td>3115-CZMZD</td><td>Male  </td><td>0</td><td>No </td><td>Yes</td><td>0</td><td>Yes</td><td>No              </td><td>No </td><td>No internet service</td><td>⋯</td><td>No internet service</td><td>No internet service</td><td>No internet service</td><td>No internet service</td><td>Two year</td><td>No </td><td>Mailed check             </td><td>20.25</td><td>NA</td><td>No</td></tr>\n",
              "\t<tr><td>5709-LVOEQ</td><td>Female</td><td>0</td><td>Yes</td><td>Yes</td><td>0</td><td>Yes</td><td>No              </td><td>DSL</td><td>Yes                </td><td>⋯</td><td>Yes                </td><td>No                 </td><td>Yes                </td><td>Yes                </td><td>Two year</td><td>No </td><td>Mailed check             </td><td>80.85</td><td>NA</td><td>No</td></tr>\n",
              "\t<tr><td>4367-NUYAO</td><td>Male  </td><td>0</td><td>Yes</td><td>Yes</td><td>0</td><td>Yes</td><td>Yes             </td><td>No </td><td>No internet service</td><td>⋯</td><td>No internet service</td><td>No internet service</td><td>No internet service</td><td>No internet service</td><td>Two year</td><td>No </td><td>Mailed check             </td><td>25.75</td><td>NA</td><td>No</td></tr>\n",
              "\t<tr><td>1371-DWPAZ</td><td>Female</td><td>0</td><td>Yes</td><td>Yes</td><td>0</td><td>No </td><td>No phone service</td><td>DSL</td><td>Yes                </td><td>⋯</td><td>Yes                </td><td>Yes                </td><td>Yes                </td><td>No                 </td><td>Two year</td><td>No </td><td>Credit card (automatic)  </td><td>56.05</td><td>NA</td><td>No</td></tr>\n",
              "\t<tr><td>7644-OMVMY</td><td>Male  </td><td>0</td><td>Yes</td><td>Yes</td><td>0</td><td>Yes</td><td>No              </td><td>No </td><td>No internet service</td><td>⋯</td><td>No internet service</td><td>No internet service</td><td>No internet service</td><td>No internet service</td><td>Two year</td><td>No </td><td>Mailed check             </td><td>19.85</td><td>NA</td><td>No</td></tr>\n",
              "\t<tr><td>3213-VVOLG</td><td>Male  </td><td>0</td><td>Yes</td><td>Yes</td><td>0</td><td>Yes</td><td>Yes             </td><td>No </td><td>No internet service</td><td>⋯</td><td>No internet service</td><td>No internet service</td><td>No internet service</td><td>No internet service</td><td>Two year</td><td>No </td><td>Mailed check             </td><td>25.35</td><td>NA</td><td>No</td></tr>\n",
              "\t<tr><td>2520-SGTTA</td><td>Female</td><td>0</td><td>Yes</td><td>Yes</td><td>0</td><td>Yes</td><td>No              </td><td>No </td><td>No internet service</td><td>⋯</td><td>No internet service</td><td>No internet service</td><td>No internet service</td><td>No internet service</td><td>Two year</td><td>No </td><td>Mailed check             </td><td>20.00</td><td>NA</td><td>No</td></tr>\n",
              "\t<tr><td>2923-ARZLG</td><td>Male  </td><td>0</td><td>Yes</td><td>Yes</td><td>0</td><td>Yes</td><td>No              </td><td>No </td><td>No internet service</td><td>⋯</td><td>No internet service</td><td>No internet service</td><td>No internet service</td><td>No internet service</td><td>One year</td><td>Yes</td><td>Mailed check             </td><td>19.70</td><td>NA</td><td>No</td></tr>\n",
              "\t<tr><td>4075-WKNIU</td><td>Female</td><td>0</td><td>Yes</td><td>Yes</td><td>0</td><td>Yes</td><td>Yes             </td><td>DSL</td><td>No                 </td><td>⋯</td><td>Yes                </td><td>Yes                </td><td>Yes                </td><td>No                 </td><td>Two year</td><td>No </td><td>Mailed check             </td><td>73.35</td><td>NA</td><td>No</td></tr>\n",
              "\t<tr><td>2775-SEFEE</td><td>Male  </td><td>0</td><td>No </td><td>Yes</td><td>0</td><td>Yes</td><td>Yes             </td><td>DSL</td><td>Yes                </td><td>⋯</td><td>No                 </td><td>Yes                </td><td>No                 </td><td>No                 </td><td>Two year</td><td>Yes</td><td>Bank transfer (automatic)</td><td>61.90</td><td>NA</td><td>No</td></tr>\n",
              "</tbody>\n",
              "</table>\n"
            ],
            "text/markdown": "\nA data.frame: 11 × 21\n\n| customerID &lt;chr&gt; | gender &lt;chr&gt; | SeniorCitizen &lt;int&gt; | Partner &lt;chr&gt; | Dependents &lt;chr&gt; | tenure &lt;int&gt; | PhoneService &lt;chr&gt; | MultipleLines &lt;chr&gt; | InternetService &lt;chr&gt; | OnlineSecurity &lt;chr&gt; | ⋯ ⋯ | DeviceProtection &lt;chr&gt; | TechSupport &lt;chr&gt; | StreamingTV &lt;chr&gt; | StreamingMovies &lt;chr&gt; | Contract &lt;chr&gt; | PaperlessBilling &lt;chr&gt; | PaymentMethod &lt;chr&gt; | MonthlyCharges &lt;dbl&gt; | TotalCharges &lt;dbl&gt; | Churn &lt;chr&gt; |\n|---|---|---|---|---|---|---|---|---|---|---|---|---|---|---|---|---|---|---|---|---|\n| 4472-LVYGI | Female | 0 | Yes | Yes | 0 | No  | No phone service | DSL | Yes                 | ⋯ | Yes                 | Yes                 | Yes                 | No                  | Two year | Yes | Bank transfer (automatic) | 52.55 | NA | No |\n| 3115-CZMZD | Male   | 0 | No  | Yes | 0 | Yes | No               | No  | No internet service | ⋯ | No internet service | No internet service | No internet service | No internet service | Two year | No  | Mailed check              | 20.25 | NA | No |\n| 5709-LVOEQ | Female | 0 | Yes | Yes | 0 | Yes | No               | DSL | Yes                 | ⋯ | Yes                 | No                  | Yes                 | Yes                 | Two year | No  | Mailed check              | 80.85 | NA | No |\n| 4367-NUYAO | Male   | 0 | Yes | Yes | 0 | Yes | Yes              | No  | No internet service | ⋯ | No internet service | No internet service | No internet service | No internet service | Two year | No  | Mailed check              | 25.75 | NA | No |\n| 1371-DWPAZ | Female | 0 | Yes | Yes | 0 | No  | No phone service | DSL | Yes                 | ⋯ | Yes                 | Yes                 | Yes                 | No                  | Two year | No  | Credit card (automatic)   | 56.05 | NA | No |\n| 7644-OMVMY | Male   | 0 | Yes | Yes | 0 | Yes | No               | No  | No internet service | ⋯ | No internet service | No internet service | No internet service | No internet service | Two year | No  | Mailed check              | 19.85 | NA | No |\n| 3213-VVOLG | Male   | 0 | Yes | Yes | 0 | Yes | Yes              | No  | No internet service | ⋯ | No internet service | No internet service | No internet service | No internet service | Two year | No  | Mailed check              | 25.35 | NA | No |\n| 2520-SGTTA | Female | 0 | Yes | Yes | 0 | Yes | No               | No  | No internet service | ⋯ | No internet service | No internet service | No internet service | No internet service | Two year | No  | Mailed check              | 20.00 | NA | No |\n| 2923-ARZLG | Male   | 0 | Yes | Yes | 0 | Yes | No               | No  | No internet service | ⋯ | No internet service | No internet service | No internet service | No internet service | One year | Yes | Mailed check              | 19.70 | NA | No |\n| 4075-WKNIU | Female | 0 | Yes | Yes | 0 | Yes | Yes              | DSL | No                  | ⋯ | Yes                 | Yes                 | Yes                 | No                  | Two year | No  | Mailed check              | 73.35 | NA | No |\n| 2775-SEFEE | Male   | 0 | No  | Yes | 0 | Yes | Yes              | DSL | Yes                 | ⋯ | No                  | Yes                 | No                  | No                  | Two year | Yes | Bank transfer (automatic) | 61.90 | NA | No |\n\n",
            "text/latex": "A data.frame: 11 × 21\n\\begin{tabular}{lllllllllllllllllllll}\n customerID & gender & SeniorCitizen & Partner & Dependents & tenure & PhoneService & MultipleLines & InternetService & OnlineSecurity & ⋯ & DeviceProtection & TechSupport & StreamingTV & StreamingMovies & Contract & PaperlessBilling & PaymentMethod & MonthlyCharges & TotalCharges & Churn\\\\\n <chr> & <chr> & <int> & <chr> & <chr> & <int> & <chr> & <chr> & <chr> & <chr> & ⋯ & <chr> & <chr> & <chr> & <chr> & <chr> & <chr> & <chr> & <dbl> & <dbl> & <chr>\\\\\n\\hline\n\t 4472-LVYGI & Female & 0 & Yes & Yes & 0 & No  & No phone service & DSL & Yes                 & ⋯ & Yes                 & Yes                 & Yes                 & No                  & Two year & Yes & Bank transfer (automatic) & 52.55 & NA & No\\\\\n\t 3115-CZMZD & Male   & 0 & No  & Yes & 0 & Yes & No               & No  & No internet service & ⋯ & No internet service & No internet service & No internet service & No internet service & Two year & No  & Mailed check              & 20.25 & NA & No\\\\\n\t 5709-LVOEQ & Female & 0 & Yes & Yes & 0 & Yes & No               & DSL & Yes                 & ⋯ & Yes                 & No                  & Yes                 & Yes                 & Two year & No  & Mailed check              & 80.85 & NA & No\\\\\n\t 4367-NUYAO & Male   & 0 & Yes & Yes & 0 & Yes & Yes              & No  & No internet service & ⋯ & No internet service & No internet service & No internet service & No internet service & Two year & No  & Mailed check              & 25.75 & NA & No\\\\\n\t 1371-DWPAZ & Female & 0 & Yes & Yes & 0 & No  & No phone service & DSL & Yes                 & ⋯ & Yes                 & Yes                 & Yes                 & No                  & Two year & No  & Credit card (automatic)   & 56.05 & NA & No\\\\\n\t 7644-OMVMY & Male   & 0 & Yes & Yes & 0 & Yes & No               & No  & No internet service & ⋯ & No internet service & No internet service & No internet service & No internet service & Two year & No  & Mailed check              & 19.85 & NA & No\\\\\n\t 3213-VVOLG & Male   & 0 & Yes & Yes & 0 & Yes & Yes              & No  & No internet service & ⋯ & No internet service & No internet service & No internet service & No internet service & Two year & No  & Mailed check              & 25.35 & NA & No\\\\\n\t 2520-SGTTA & Female & 0 & Yes & Yes & 0 & Yes & No               & No  & No internet service & ⋯ & No internet service & No internet service & No internet service & No internet service & Two year & No  & Mailed check              & 20.00 & NA & No\\\\\n\t 2923-ARZLG & Male   & 0 & Yes & Yes & 0 & Yes & No               & No  & No internet service & ⋯ & No internet service & No internet service & No internet service & No internet service & One year & Yes & Mailed check              & 19.70 & NA & No\\\\\n\t 4075-WKNIU & Female & 0 & Yes & Yes & 0 & Yes & Yes              & DSL & No                  & ⋯ & Yes                 & Yes                 & Yes                 & No                  & Two year & No  & Mailed check              & 73.35 & NA & No\\\\\n\t 2775-SEFEE & Male   & 0 & No  & Yes & 0 & Yes & Yes              & DSL & Yes                 & ⋯ & No                  & Yes                 & No                  & No                  & Two year & Yes & Bank transfer (automatic) & 61.90 & NA & No\\\\\n\\end{tabular}\n",
            "text/plain": [
              "   customerID gender SeniorCitizen Partner Dependents tenure PhoneService\n",
              "1  4472-LVYGI Female 0             Yes     Yes        0      No          \n",
              "2  3115-CZMZD Male   0             No      Yes        0      Yes         \n",
              "3  5709-LVOEQ Female 0             Yes     Yes        0      Yes         \n",
              "4  4367-NUYAO Male   0             Yes     Yes        0      Yes         \n",
              "5  1371-DWPAZ Female 0             Yes     Yes        0      No          \n",
              "6  7644-OMVMY Male   0             Yes     Yes        0      Yes         \n",
              "7  3213-VVOLG Male   0             Yes     Yes        0      Yes         \n",
              "8  2520-SGTTA Female 0             Yes     Yes        0      Yes         \n",
              "9  2923-ARZLG Male   0             Yes     Yes        0      Yes         \n",
              "10 4075-WKNIU Female 0             Yes     Yes        0      Yes         \n",
              "11 2775-SEFEE Male   0             No      Yes        0      Yes         \n",
              "   MultipleLines    InternetService OnlineSecurity      ⋯ DeviceProtection   \n",
              "1  No phone service DSL             Yes                 ⋯ Yes                \n",
              "2  No               No              No internet service ⋯ No internet service\n",
              "3  No               DSL             Yes                 ⋯ Yes                \n",
              "4  Yes              No              No internet service ⋯ No internet service\n",
              "5  No phone service DSL             Yes                 ⋯ Yes                \n",
              "6  No               No              No internet service ⋯ No internet service\n",
              "7  Yes              No              No internet service ⋯ No internet service\n",
              "8  No               No              No internet service ⋯ No internet service\n",
              "9  No               No              No internet service ⋯ No internet service\n",
              "10 Yes              DSL             No                  ⋯ Yes                \n",
              "11 Yes              DSL             Yes                 ⋯ No                 \n",
              "   TechSupport         StreamingTV         StreamingMovies     Contract\n",
              "1  Yes                 Yes                 No                  Two year\n",
              "2  No internet service No internet service No internet service Two year\n",
              "3  No                  Yes                 Yes                 Two year\n",
              "4  No internet service No internet service No internet service Two year\n",
              "5  Yes                 Yes                 No                  Two year\n",
              "6  No internet service No internet service No internet service Two year\n",
              "7  No internet service No internet service No internet service Two year\n",
              "8  No internet service No internet service No internet service Two year\n",
              "9  No internet service No internet service No internet service One year\n",
              "10 Yes                 Yes                 No                  Two year\n",
              "11 Yes                 No                  No                  Two year\n",
              "   PaperlessBilling PaymentMethod             MonthlyCharges TotalCharges Churn\n",
              "1  Yes              Bank transfer (automatic) 52.55          NA           No   \n",
              "2  No               Mailed check              20.25          NA           No   \n",
              "3  No               Mailed check              80.85          NA           No   \n",
              "4  No               Mailed check              25.75          NA           No   \n",
              "5  No               Credit card (automatic)   56.05          NA           No   \n",
              "6  No               Mailed check              19.85          NA           No   \n",
              "7  No               Mailed check              25.35          NA           No   \n",
              "8  No               Mailed check              20.00          NA           No   \n",
              "9  Yes              Mailed check              19.70          NA           No   \n",
              "10 No               Mailed check              73.35          NA           No   \n",
              "11 Yes              Bank transfer (automatic) 61.90          NA           No   "
            ]
          },
          "metadata": {}
        }
      ]
    },
    {
      "cell_type": "markdown",
      "source": [
        "Output: khi lấy ra các row missing value ở col TotalCharges thì thấy nhận thấy cột tenure toàn 0.\n",
        "* **tenure** là số tháng khách dùng dịch vụ, nên số tháng là 0, thì đây là khách mới, vậy thì chưa có tổng hóa đơn. Chưa dùng gì, thì churn đều là No vậy nên không có giá trị cho việc dự đoán.\n",
        "  - Vì lý do đó, nên sẽ bỏ các row có tenure = 0.\n",
        "- (*) Cũng có thể giữ lại, nhưng cho các missing value ở TotalCharges là 0.\n",
        "  - Lý do: do đây là tập khách hàng mới, data chưa có nên về logic thì có thể cho là 0, còn lý do mạnh hơn để bỏ thì phải dựa vào EDA trên, để khai phá xem xem có ảnh hướng tới việc dự đoán."
      ],
      "metadata": {
        "id": "YQzv63nY9slM"
      },
      "id": "YQzv63nY9slM"
    },
    {
      "cell_type": "markdown",
      "source": [
        "* TH1: bỏ TotalCharge đi cùng nhau vì gây ra hiện tượng đa cộng tuyến\n",
        "\n",
        "* Hiện tượng đa cộng tuyến là gì? ...\n",
        "\n",
        "* Dựa vào báo cáo EDA tự động (được tạo từ create_report) thì có thể thấy tenure và totalCharges cùng đồng biến và tăng dần theo thời gian,\n",
        "tenure càng lớn thì total càng nhiều, có tương quan tuyến tính mạnh\n",
        "\n",
        "* Ảnh hưởng tới mô hình:\n",
        "với Logistic Regression: việc tính hệ số (coefficients) sẽ không đáng tin.\n",
        "Ngoài ra là làm phức tạp mô hình: nó cho cùng kiểu ý nghĩa về tính trung\n",
        "thành theo thời gian, cụ thể ở lại càng lâu thì tenure tăng, mà ở lâu\n",
        "dùng dịch vụ thì tiền cũng tăng, nên 2 biến kể có cùng ý nghĩa, khó biết nên\n",
        "dựa theo cái nào\n",
        "\n",
        "\n",
        "\n",
        "\n"
      ],
      "metadata": {
        "id": "PrlHv6uqIVYq"
      },
      "id": "PrlHv6uqIVYq"
    },
    {
      "cell_type": "markdown",
      "source": [],
      "metadata": {
        "id": "WCKzczwhfS5P"
      },
      "id": "WCKzczwhfS5P"
    },
    {
      "cell_type": "code",
      "source": [
        "# Check độ tương quan ở bên này để hình dung rõ hơn\n",
        "\n",
        "# đầu tiên cần chọn các biến liên quan để mình dùng,\n",
        "# để check độ tương quan thì logic là sẽ lấy các số int\n",
        "numeric_vars = df %>% select (tenure, MonthlyCharges, TotalCharges)\n",
        "\n",
        "# tính ma trận tương quan, và bỏ qua các row NA\n",
        "# dùng ma trận để tính với nhiều biến\n",
        "cor_matrix = cor(numeric_vars, use=\"complete.obs\") # argument use = \"complete.obs\" use for not NA rows only\n",
        "\n",
        "print(cor_matrix)\n"
      ],
      "metadata": {
        "colab": {
          "base_uri": "https://localhost:8080/"
        },
        "id": "U2htmyLZAheh",
        "outputId": "e779a302-f061-4fc9-8c78-920e7ed5c34a"
      },
      "id": "U2htmyLZAheh",
      "execution_count": null,
      "outputs": [
        {
          "output_type": "stream",
          "name": "stdout",
          "text": [
            "                  tenure MonthlyCharges TotalCharges\n",
            "tenure         1.0000000      0.2468618    0.8258805\n",
            "MonthlyCharges 0.2468618      1.0000000    0.6510648\n",
            "TotalCharges   0.8258805      0.6510648    1.0000000\n"
          ]
        }
      ]
    },
    {
      "cell_type": "markdown",
      "source": [
        "Output: có thể thấy quan hệ tương quan là 0.83 (cao), nên cần loại bỏ TotalCharges.\n",
        "Ngoài ra, CustomerID không có ảnh hưởng và không hỗ trợ trong việc mô hình hóa nên loại bỏ"
      ],
      "metadata": {
        "id": "1H4XJ_R9KENG"
      },
      "id": "1H4XJ_R9KENG"
    },
    {
      "cell_type": "markdown",
      "source": [
        "Lựa Chọn đặc trưng (Features)"
      ],
      "metadata": {
        "id": "CjHLQsRFMkLe"
      },
      "id": "CjHLQsRFMkLe"
    },
    {
      "cell_type": "code",
      "source": [
        "# loại bỏ các cột theo kế hoạch\n",
        "df = df %>% select(-customerID, -TotalCharges)"
      ],
      "metadata": {
        "id": "gJh7cMZ4KSzW"
      },
      "id": "gJh7cMZ4KSzW",
      "execution_count": null,
      "outputs": []
    },
    {
      "cell_type": "code",
      "source": [
        "str(df)"
      ],
      "metadata": {
        "colab": {
          "base_uri": "https://localhost:8080/"
        },
        "id": "h0qxDpgCM1j4",
        "outputId": "262c06e7-7649-4614-8c79-863fb180df2c",
        "collapsed": true
      },
      "id": "h0qxDpgCM1j4",
      "execution_count": null,
      "outputs": [
        {
          "output_type": "stream",
          "name": "stdout",
          "text": [
            "'data.frame':\t7043 obs. of  21 variables:\n",
            " $ customerID      : chr  \"7590-VHVEG\" \"5575-GNVDE\" \"3668-QPYBK\" \"7795-CFOCW\" ...\n",
            " $ gender          : chr  \"Female\" \"Male\" \"Male\" \"Male\" ...\n",
            " $ SeniorCitizen   : int  0 0 0 0 0 0 0 0 0 0 ...\n",
            " $ Partner         : chr  \"Yes\" \"No\" \"No\" \"No\" ...\n",
            " $ Dependents      : chr  \"No\" \"No\" \"No\" \"No\" ...\n",
            " $ tenure          : int  1 34 2 45 2 8 22 10 28 62 ...\n",
            " $ PhoneService    : chr  \"No\" \"Yes\" \"Yes\" \"No\" ...\n",
            " $ MultipleLines   : chr  \"No phone service\" \"No\" \"No\" \"No phone service\" ...\n",
            " $ InternetService : chr  \"DSL\" \"DSL\" \"DSL\" \"DSL\" ...\n",
            " $ OnlineSecurity  : chr  \"No\" \"Yes\" \"Yes\" \"Yes\" ...\n",
            " $ OnlineBackup    : chr  \"Yes\" \"No\" \"Yes\" \"No\" ...\n",
            " $ DeviceProtection: chr  \"No\" \"Yes\" \"No\" \"Yes\" ...\n",
            " $ TechSupport     : chr  \"No\" \"No\" \"No\" \"Yes\" ...\n",
            " $ StreamingTV     : chr  \"No\" \"No\" \"No\" \"No\" ...\n",
            " $ StreamingMovies : chr  \"No\" \"No\" \"No\" \"No\" ...\n",
            " $ Contract        : chr  \"Month-to-month\" \"One year\" \"Month-to-month\" \"One year\" ...\n",
            " $ PaperlessBilling: chr  \"Yes\" \"No\" \"Yes\" \"No\" ...\n",
            " $ PaymentMethod   : chr  \"Electronic check\" \"Mailed check\" \"Mailed check\" \"Bank transfer (automatic)\" ...\n",
            " $ MonthlyCharges  : num  29.9 57 53.9 42.3 70.7 ...\n",
            " $ TotalCharges    : num  29.9 1889.5 108.2 1840.8 151.7 ...\n",
            " $ Churn           : chr  \"No\" \"No\" \"Yes\" \"No\" ...\n"
          ]
        }
      ]
    },
    {
      "cell_type": "code",
      "source": [
        "# cần chuyển các obs chr về factor để thực hiện phân tích\n",
        "# Vì hầu hết các hàm mô hình hóa trong R (bao gồm 'caret' và 'ROSE') hoạt động\n",
        "# tốt nhất và đáng tin cậy nhất.\n",
        "\n",
        "# đổi tất cả các cột là character thành factor\n",
        "df_model  = df_model %>% mutate(across(where(is.character), as.factor))\n"
      ],
      "metadata": {
        "id": "f4lhwulSrOC6",
        "colab": {
          "base_uri": "https://localhost:8080/",
          "height": 73
        },
        "outputId": "7c0dd744-9baf-46c3-8152-c7eb4b159175"
      },
      "id": "f4lhwulSrOC6",
      "execution_count": 1,
      "outputs": [
        {
          "output_type": "error",
          "ename": "ERROR",
          "evalue": "Error in df_model %>% mutate(across(where(is.character), as.factor)): could not find function \"%>%\"\n",
          "traceback": [
            "Error in df_model %>% mutate(across(where(is.character), as.factor)): could not find function \"%>%\"\nTraceback:\n"
          ]
        }
      ]
    },
    {
      "cell_type": "markdown",
      "source": [
        "Thư viện caret và ROSE\n",
        "* Nói chung nó là thư viện dùng cho việc xây dựng và cải thiện mô hình học máy, đặc biệt cho bài toán phân loại.\n",
        "\n",
        "#### **caret**\n",
        "* Stand for Classification and Regressionh Training.\n",
        "* Là một thư viện tổng hợp trong R giúp đơn giản hóa quá trình huấn luyện mô hình học máy.\n",
        "* Nó hỗ trợ:\n",
        "  * Preprocessing (Chuẩn hóa(normalize), encoding, divide train/test data set).\n",
        "  * Huấn luyện nhiều loại mô hình, vd: logistic regression, random forest, SVM, etc.\n",
        "  * Tối ưu hóa hyperparameter (tìm hiểu sau...)\n",
        "  * Đánh giá mô hình bằng các chỉ số Accuracy, ROC, F1-score,...\n",
        "  \n",
        "* Ở bài này thì mình sẽ dùng caret để huấn luyện 3 mô hình logistic regression, decision tree, và random forest với kỹ thuật đề xuất là cross-validation và đánh giá bằng ROC.\n",
        "\n",
        "#### **ROSE**\n",
        "* Stand for Random Over-Sampling Examples.\n",
        "* Là một thư viện trong R chuyên dùng để xử lý mất cân bằng dữ liệu trong bài toán phân loại.\n",
        "* ROSE sẽ xử lý cân bằng bằng cách sinh thêm các mẫu tổng hợp (synthetic examples) hoặc lấy mẫu lại (resampling).\n"
      ],
      "metadata": {
        "id": "mP-aKlfkTSQg"
      },
      "id": "mP-aKlfkTSQg"
    },
    {
      "cell_type": "code",
      "source": [],
      "metadata": {
        "id": "UfMBFAUqAGSH"
      },
      "id": "UfMBFAUqAGSH",
      "execution_count": null,
      "outputs": []
    },
    {
      "cell_type": "code",
      "source": [],
      "metadata": {
        "id": "rDNJFkPrAGP5"
      },
      "id": "rDNJFkPrAGP5",
      "execution_count": null,
      "outputs": []
    },
    {
      "cell_type": "code",
      "source": [],
      "metadata": {
        "id": "-aeShfvDS9xv"
      },
      "id": "-aeShfvDS9xv",
      "execution_count": null,
      "outputs": []
    },
    {
      "cell_type": "markdown",
      "source": [],
      "metadata": {
        "id": "5Ekb7KrDrNOB"
      },
      "id": "5Ekb7KrDrNOB"
    },
    {
      "cell_type": "markdown",
      "source": [
        "### 2.2.2 Feature Engineering"
      ],
      "metadata": {
        "id": "jtROLVH6Rhff"
      },
      "id": "jtROLVH6Rhff"
    },
    {
      "cell_type": "markdown",
      "source": [
        "Dùng để tối ưu dữ liệu.\n",
        "  * Làm nổi bật các quan hệ đặc biệt của dữ liệu.\n",
        "  * Gom thông tin: kết hợp biến: ví dụ quan hệ giữa contract by churn, paymentMethod by Churn.\n",
        "  * Tăng hiệu suất dự đoán, show được các khía cạnh mới về dữ liệu."
      ],
      "metadata": {
        "id": "xSLaw2BTRpci"
      },
      "id": "xSLaw2BTRpci"
    },
    {
      "cell_type": "code",
      "source": [],
      "metadata": {
        "id": "2nHFQew_M5XF"
      },
      "id": "2nHFQew_M5XF",
      "execution_count": null,
      "outputs": []
    },
    {
      "cell_type": "markdown",
      "source": [
        "## Phần code cũ"
      ],
      "metadata": {
        "id": "5iBsRtwz4C_w"
      },
      "id": "5iBsRtwz4C_w"
    },
    {
      "cell_type": "code",
      "source": [],
      "metadata": {
        "id": "o60Jt0IMKSId"
      },
      "id": "o60Jt0IMKSId",
      "execution_count": null,
      "outputs": []
    },
    {
      "cell_type": "code",
      "source": [
        "# remove customerID because of poor value for visualization\n",
        "df = df %>% select(-customerID)\n"
      ],
      "metadata": {
        "collapsed": true,
        "id": "47BLZjqEyyBO"
      },
      "id": "47BLZjqEyyBO",
      "execution_count": null,
      "outputs": []
    },
    {
      "cell_type": "code",
      "source": [
        "# make sure splited data can be repeated\n",
        "set.seed(123)\n",
        "\n",
        "trainIndex = createDataPartition(df$Churn, p = 0.8, list = FALSE, times = 1)"
      ],
      "metadata": {
        "id": "3NKc81vn0Btb"
      },
      "id": "3NKc81vn0Btb",
      "execution_count": null,
      "outputs": []
    },
    {
      "cell_type": "code",
      "source": [
        "# data set for training\n",
        "train_data = df[trainIndex,]"
      ],
      "metadata": {
        "id": "ahQjE-dG0ql_"
      },
      "id": "ahQjE-dG0ql_",
      "execution_count": null,
      "outputs": []
    },
    {
      "cell_type": "code",
      "source": [
        "# data set for test\n",
        "test_data = df[-trainIndex,]"
      ],
      "metadata": {
        "id": "gC1XHcom0wr3"
      },
      "id": "gC1XHcom0wr3",
      "execution_count": null,
      "outputs": []
    },
    {
      "cell_type": "code",
      "source": [
        "# check churn rate in 2 data set above\n",
        "prop.table(table(train_data$Churn))\n",
        "prop.table(table(test_data$Churn))"
      ],
      "metadata": {
        "colab": {
          "base_uri": "https://localhost:8080/",
          "height": 126
        },
        "id": "DdZrCAjN01IJ",
        "outputId": "c1ca2f72-ecbe-4e49-c747-16af82041118"
      },
      "id": "DdZrCAjN01IJ",
      "execution_count": null,
      "outputs": [
        {
          "output_type": "display_data",
          "data": {
            "text/plain": [
              "\n",
              "       No       Yes \n",
              "0.7345635 0.2654365 "
            ]
          },
          "metadata": {}
        },
        {
          "output_type": "display_data",
          "data": {
            "text/plain": [
              "\n",
              "       No       Yes \n",
              "0.7348969 0.2651031 "
            ]
          },
          "metadata": {}
        }
      ]
    },
    {
      "cell_type": "code",
      "source": [
        "# One-Hot encoding: all factor variables (except churn) will be convert\n",
        "# into 0/1.\n",
        "# Scaling: standardize variable like tenure, MonthlyCharges, PaymentMethod,\n",
        "# TotalCharges) into the same size.\n",
        "# center will reduce the mean value, and scale will be divided for the\n",
        "# standard deviation"
      ],
      "metadata": {
        "id": "F_gPwVBv1HJ1"
      },
      "id": "F_gPwVBv1HJ1",
      "execution_count": null,
      "outputs": []
    },
    {
      "cell_type": "code",
      "source": [
        "# train\n",
        "# set up control : 10-fold Cross-Validation\n",
        "train_control = trainControl(\n",
        "  method = \"cv\",\n",
        "  number = 10,\n",
        "  summaryFunction = twoClassSummary, # use AUC for the main size\n",
        "  classProbs = TRUE,\n",
        "  savePredictions = \"final\"\n",
        ")"
      ],
      "metadata": {
        "id": "B9F28SjK2jC3"
      },
      "id": "B9F28SjK2jC3",
      "execution_count": null,
      "outputs": []
    },
    {
      "cell_type": "markdown",
      "source": [
        "### Logistic Regression\n",
        "Math view: this model finds a line \"barrier\" linear one (in multile dimension) to split between churn and no churn. It use function Sigmoid to stransform the output into probability from 0 to 1.\n",
        "\n",
        "Formular: $$\n",
        "P(\\text{Churn} = \\text{Yes}) = \\frac{1}{1 + e^{-z}}\n",
        "$$\n",
        "\n",
        "While z is a linear combination of output vars\n",
        "$$ z = w1x1 + w2x2 + ... + b\n",
        "$$\n",
        "This model use weight w to minimum prediction errors\n",
        "\n"
      ],
      "metadata": {
        "id": "eKaMg37M3OjI"
      },
      "id": "eKaMg37M3OjI"
    },
    {
      "cell_type": "code",
      "source": [
        "# train logistic regression\n",
        "set.seed(123)\n",
        "logit_model = train(\n",
        "  Churn ~.,\n",
        "  data = train_data,\n",
        "  method = \"glm\",\n",
        "  family = \"binomial\",\n",
        "  trControl = train_control,\n",
        "  preProcess = c(\"center\", \"scale\"), # required caret to nomarlize data\n",
        "  metric = \"ROC\" # choose last model based on AUC-ROC\n",
        ")\n",
        "\n",
        "print(logit_model)\n"
      ],
      "metadata": {
        "id": "ZQ7hnn1X3F2_",
        "colab": {
          "base_uri": "https://localhost:8080/"
        },
        "outputId": "b537c7bd-9dd6-45e0-f603-97dfd562253a"
      },
      "id": "ZQ7hnn1X3F2_",
      "execution_count": null,
      "outputs": [
        {
          "output_type": "stream",
          "name": "stdout",
          "text": [
            "Generalized Linear Model \n",
            "\n",
            "5636 samples\n",
            "  19 predictor\n",
            "   2 classes: 'No', 'Yes' \n",
            "\n",
            "Pre-processing: centered (30), scaled (30) \n",
            "Resampling: Cross-Validated (10 fold) \n",
            "Summary of sample sizes: 5072, 5072, 5073, 5073, 5073, 5072, ... \n",
            "Resampling results:\n",
            "\n",
            "  ROC        Sens       Spec     \n",
            "  0.8479408  0.8939614  0.5574899\n",
            "\n"
          ]
        }
      ]
    },
    {
      "cell_type": "markdown",
      "source": [
        "### Decision Tree"
      ],
      "metadata": {
        "id": "t9-Szj9JCOOq"
      },
      "id": "t9-Szj9JCOOq"
    },
    {
      "cell_type": "code",
      "source": [
        "set.seed(123)\n",
        "tree_model = train(\n",
        "  Churn ~.,\n",
        "  data = train_data,\n",
        "  method = \"rpart\",\n",
        "  trControl = train_control,\n",
        "  preProcess = c(\"center\", \"scale\"),\n",
        "  metric = \"ROC\",\n",
        "  tuneLength = 10\n",
        ")\n",
        "print(tree_model)\n",
        "plot(tree_model)"
      ],
      "metadata": {
        "colab": {
          "base_uri": "https://localhost:8080/",
          "height": 891
        },
        "id": "Sl_yqfNzCYbE",
        "outputId": "bc0b55a0-b1a1-48c7-8c73-5b6f209550b1"
      },
      "id": "Sl_yqfNzCYbE",
      "execution_count": null,
      "outputs": [
        {
          "output_type": "stream",
          "name": "stdout",
          "text": [
            "CART \n",
            "\n",
            "5636 samples\n",
            "  19 predictor\n",
            "   2 classes: 'No', 'Yes' \n",
            "\n",
            "Pre-processing: centered (30), scaled (30) \n",
            "Resampling: Cross-Validated (10 fold) \n",
            "Summary of sample sizes: 5072, 5072, 5073, 5073, 5073, 5072, ... \n",
            "Resampling results across tuning parameters:\n",
            "\n",
            "  cp           ROC        Sens       Spec     \n",
            "  0.002005348  0.8070738  0.8944444  0.5073333\n",
            "  0.002228164  0.8072144  0.8963768  0.5086667\n",
            "  0.002339572  0.8071838  0.8975845  0.5066667\n",
            "  0.002673797  0.8060530  0.8961353  0.5033557\n",
            "  0.002896613  0.7954610  0.8958937  0.4993154\n",
            "  0.003342246  0.7749243  0.8954106  0.4952975\n",
            "  0.004010695  0.7385529  0.9062802  0.4659284\n",
            "  0.004512032  0.7208881  0.9084541  0.4592349\n",
            "  0.006461676  0.7113713  0.9137681  0.4465593\n",
            "  0.107954545  0.6197448  0.9565217  0.2321477\n",
            "\n",
            "ROC was used to select the optimal model using the largest value.\n",
            "The final value used for the model was cp = 0.002228164.\n"
          ]
        },
        {
          "output_type": "display_data",
          "data": {
            "text/plain": [
              "plot without title"
            ],
            "image/png": "[encoded data removed]"
          },
          "metadata": {
            "image/png": {
              "width": 420,
              "height": 420
            }
          }
        }
      ]
    },
    {
      "cell_type": "markdown",
      "source": [
        "### Random Forest"
      ],
      "metadata": {
        "id": "lPgfhd3eDJwX"
      },
      "id": "lPgfhd3eDJwX"
    },
    {
      "cell_type": "code",
      "source": [
        "install.packages(\"randomForest\")\n",
        "library(randomForest)"
      ],
      "metadata": {
        "colab": {
          "base_uri": "https://localhost:8080/"
        },
        "id": "RHmE7YYDD_1h",
        "outputId": "3d2b8cd4-6ae7-4867-fad1-3f340161c39b"
      },
      "id": "RHmE7YYDD_1h",
      "execution_count": null,
      "outputs": [
        {
          "output_type": "stream",
          "name": "stderr",
          "text": [
            "Installing package into ‘/usr/local/lib/R/site-library’\n",
            "(as ‘lib’ is unspecified)\n",
            "\n"
          ]
        }
      ]
    },
    {
      "cell_type": "code",
      "source": [
        "set.seed(123)\n",
        "rf_model = train (\n",
        "  Churn ~.,\n",
        "  data = train_data,\n",
        "  method = \"rf\",\n",
        "  trControl = train_control,\n",
        "  preProcess = c(\"center\", \"scale\"),\n",
        "  metric = \"ROC\",\n",
        "  tuneLength = 5\n",
        ")\n",
        "\n",
        "print(rf_model)"
      ],
      "metadata": {
        "colab": {
          "base_uri": "https://localhost:8080/"
        },
        "id": "FEA003fFDMC2",
        "outputId": "ea1738e2-5d30-4bca-a0d2-eb57dbef951a"
      },
      "id": "FEA003fFDMC2",
      "execution_count": null,
      "outputs": [
        {
          "output_type": "stream",
          "name": "stdout",
          "text": [
            "Random Forest \n",
            "\n",
            "5636 samples\n",
            "  19 predictor\n",
            "   2 classes: 'No', 'Yes' \n",
            "\n",
            "Pre-processing: centered (30), scaled (30) \n",
            "Resampling: Cross-Validated (10 fold) \n",
            "Summary of sample sizes: 5072, 5072, 5073, 5073, 5073, 5072, ... \n",
            "Resampling results across tuning parameters:\n",
            "\n",
            "  mtry  ROC        Sens       Spec     \n",
            "   2    0.8352602  0.9454106  0.3609978\n",
            "   9    0.8327917  0.8942029  0.5247293\n",
            "  16    0.8277487  0.8886473  0.5113333\n",
            "  23    0.8251856  0.8850242  0.5066309\n",
            "  30    0.8219339  0.8847826  0.5019687\n",
            "\n",
            "ROC was used to select the optimal model using the largest value.\n",
            "The final value used for the model was mtry = 2.\n"
          ]
        }
      ]
    },
    {
      "cell_type": "markdown",
      "source": [
        "## Compare Cross-Validation value\n",
        "we will summerise 3 models to check which one has highest mean AUC (ROC) and highest stable (lowest standard deviation)"
      ],
      "metadata": {
        "id": "ctJmaZP1FQ1I"
      },
      "id": "ctJmaZP1FQ1I"
    },
    {
      "cell_type": "code",
      "source": [
        "model_results = resamples(list(\n",
        "  Logistic = logit_model,\n",
        "  DecisionTree = tree_model,\n",
        "  RandomForest = rf_model\n",
        "))\n",
        "\n",
        "summary(model_results)"
      ],
      "metadata": {
        "colab": {
          "base_uri": "https://localhost:8080/",
          "height": 453
        },
        "id": "X3lJlEt_DgMy",
        "outputId": "c63700f6-6732-4e15-8e8b-13bc8aa2b157"
      },
      "id": "X3lJlEt_DgMy",
      "execution_count": null,
      "outputs": [
        {
          "output_type": "display_data",
          "data": {
            "text/plain": [
              "\n",
              "Call:\n",
              "summary.resamples(object = model_results)\n",
              "\n",
              "Models: Logistic, DecisionTree, RandomForest \n",
              "Number of resamples: 10 \n",
              "\n",
              "ROC \n",
              "                  Min.   1st Qu.    Median      Mean   3rd Qu.      Max. NA's\n",
              "Logistic     0.8225121 0.8465311 0.8528394 0.8479408 0.8557045 0.8590338    0\n",
              "DecisionTree 0.7801288 0.8042110 0.8091975 0.8072144 0.8189926 0.8239291    0\n",
              "RandomForest 0.8003543 0.8325437 0.8415835 0.8352602 0.8467006 0.8505982    0\n",
              "\n",
              "Sens \n",
              "                  Min.   1st Qu.    Median      Mean   3rd Qu.      Max. NA's\n",
              "Logistic     0.8599034 0.8961353 0.8961353 0.8939614 0.9033816 0.9082126    0\n",
              "DecisionTree 0.8792271 0.8913043 0.8973430 0.8963768 0.9009662 0.9130435    0\n",
              "RandomForest 0.9323671 0.9359903 0.9432367 0.9454106 0.9547101 0.9613527    0\n",
              "\n",
              "Spec \n",
              "                  Min.   1st Qu.    Median      Mean   3rd Qu.      Max. NA's\n",
              "Logistic     0.5234899 0.5433333 0.5618792 0.5574899 0.5695190 0.5866667    0\n",
              "DecisionTree 0.4362416 0.4858389 0.5066667 0.5086667 0.5183333 0.5838926    0\n",
              "RandomForest 0.3266667 0.3422483 0.3624161 0.3609978 0.3666667 0.4228188    0\n"
            ]
          },
          "metadata": {}
        }
      ]
    },
    {
      "cell_type": "code",
      "source": [
        "# boxplot diagram to compare the distribution of ROC\n",
        "bwplot(model_results, metric = \"ROC\")"
      ],
      "metadata": {
        "colab": {
          "base_uri": "https://localhost:8080/",
          "height": 437
        },
        "id": "MpJYo8D1Ge4U",
        "outputId": "2bf278d6-75ef-49d5-f60b-66e545a46bb6"
      },
      "id": "MpJYo8D1Ge4U",
      "execution_count": null,
      "outputs": [
        {
          "output_type": "display_data",
          "data": {
            "text/plain": [
              "plot without title"
            ],
            "image/png": "[encoded data removed]"
          },
          "metadata": {
            "image/png": {
              "width": 420,
              "height": 420
            }
          }
        }
      ]
    },
    {
      "cell_type": "markdown",
      "source": [
        "-"
      ],
      "metadata": {
        "id": "ejfndxMeGqyu"
      },
      "id": "ejfndxMeGqyu"
    },
    {
      "cell_type": "code",
      "source": [
        "# make prediction\n",
        "\n",
        "# prediction based on test\n",
        "predictions = predict(rf_model, newdata = test_data)\n",
        "\n",
        "head(predictions)"
      ],
      "metadata": {
        "colab": {
          "base_uri": "https://localhost:8080/",
          "height": 69
        },
        "id": "z_k_jkR1Gnka",
        "outputId": "7b5c7785-8b30-4123-8087-7a33fc8b1550"
      },
      "id": "z_k_jkR1Gnka",
      "execution_count": null,
      "outputs": [
        {
          "output_type": "display_data",
          "data": {
            "text/html": [
              "<style>\n",
              ".list-inline {list-style: none; margin:0; padding: 0}\n",
              ".list-inline>li {display: inline-block}\n",
              ".list-inline>li:not(:last-child)::after {content: \"\\00b7\"; padding: 0 .5ex}\n",
              "</style>\n",
              "<ol class=list-inline><li>No</li><li>No</li><li>No</li><li>No</li><li>No</li><li>No</li></ol>\n",
              "\n",
              "<details>\n",
              "\t<summary style=display:list-item;cursor:pointer>\n",
              "\t\t<strong>Levels</strong>:\n",
              "\t</summary>\n",
              "\t<style>\n",
              "\t.list-inline {list-style: none; margin:0; padding: 0}\n",
              "\t.list-inline>li {display: inline-block}\n",
              "\t.list-inline>li:not(:last-child)::after {content: \"\\00b7\"; padding: 0 .5ex}\n",
              "\t</style>\n",
              "\t<ol class=list-inline><li>'No'</li><li>'Yes'</li></ol>\n",
              "</details>"
            ],
            "text/markdown": "1. No\n2. No\n3. No\n4. No\n5. No\n6. No\n\n\n\n**Levels**: 1. 'No'\n2. 'Yes'\n\n\n",
            "text/latex": "\\begin{enumerate*}\n\\item No\n\\item No\n\\item No\n\\item No\n\\item No\n\\item No\n\\end{enumerate*}\n\n\\emph{Levels}: \\begin{enumerate*}\n\\item 'No'\n\\item 'Yes'\n\\end{enumerate*}\n",
            "text/plain": [
              "[1] No No No No No No\n",
              "Levels: No Yes"
            ]
          },
          "metadata": {}
        }
      ]
    },
    {
      "cell_type": "code",
      "source": [
        "# calculate prediciton for evaluation\n",
        "# best way to use Confusion Matix\n",
        "test_data$Churn <- factor(test_data$Churn, levels = levels(predictions))\n",
        "conf_matrix <- confusionMatrix(predictions, test_data$Churn, positive = \"Yes\")\n",
        "\n",
        "print(conf_matrix)"
      ],
      "metadata": {
        "colab": {
          "base_uri": "https://localhost:8080/"
        },
        "id": "Cs1EkzutHAZu",
        "outputId": "d4ab2f40-165a-4178-d50a-58cb07e1c948"
      },
      "id": "Cs1EkzutHAZu",
      "execution_count": null,
      "outputs": [
        {
          "output_type": "stream",
          "name": "stdout",
          "text": [
            "Confusion Matrix and Statistics\n",
            "\n",
            "          Reference\n",
            "Prediction  No Yes\n",
            "       No  979 235\n",
            "       Yes  55 138\n",
            "                                          \n",
            "               Accuracy : 0.7939          \n",
            "                 95% CI : (0.7718, 0.8147)\n",
            "    No Information Rate : 0.7349          \n",
            "    P-Value [Acc > NIR] : 1.599e-07       \n",
            "                                          \n",
            "                  Kappa : 0.3746          \n",
            "                                          \n",
            " Mcnemar's Test P-Value : < 2.2e-16       \n",
            "                                          \n",
            "            Sensitivity : 0.36997         \n",
            "            Specificity : 0.94681         \n",
            "         Pos Pred Value : 0.71503         \n",
            "         Neg Pred Value : 0.80643         \n",
            "             Prevalence : 0.26510         \n",
            "         Detection Rate : 0.09808         \n",
            "   Detection Prevalence : 0.13717         \n",
            "      Balanced Accuracy : 0.65839         \n",
            "                                          \n",
            "       'Positive' Class : Yes             \n",
            "                                          \n"
          ]
        }
      ]
    },
    {
      "cell_type": "code",
      "source": [
        "library(pROC)\n",
        "pred_probs = predict(rf_model, newdata = test_data, type =\"prob\")\n",
        "roc_test = roc(test_data$Churn, pred_probs$Yes)\n",
        "plot(roc_test, main = \"ROC Curve on Test Data\")\n",
        "auc(roc_test)"
      ],
      "metadata": {
        "colab": {
          "base_uri": "https://localhost:8080/",
          "height": 527
        },
        "id": "uWHNBctbHYdc",
        "outputId": "2de7adf8-bde4-4f6b-a49f-2cbc522e5c4a"
      },
      "id": "uWHNBctbHYdc",
      "execution_count": null,
      "outputs": [
        {
          "output_type": "stream",
          "name": "stderr",
          "text": [
            "Setting levels: control = No, case = Yes\n",
            "\n",
            "Setting direction: controls < cases\n",
            "\n"
          ]
        },
        {
          "output_type": "display_data",
          "data": {
            "text/html": [
              "0.813818119590751"
            ],
            "text/markdown": "0.813818119590751",
            "text/latex": "0.813818119590751",
            "text/plain": [
              "Area under the curve: 0.8138"
            ]
          },
          "metadata": {}
        },
        {
          "output_type": "display_data",
          "data": {
            "text/plain": [
              "Plot with title “ROC Curve on Test Data”"
            ],
            "image/png": "[encoded data removed]"
          },
          "metadata": {
            "image/png": {
              "width": 420,
              "height": 420
            }
          }
        }
      ]
    },
    {
      "cell_type": "code",
      "source": [
        "\n",
        "var_importance = varImp(rf_model, scale = FALSE)\n",
        "plot(var_importance, top = 10, main = \"Top 10 Most Important Features\")"
      ],
      "metadata": {
        "colab": {
          "base_uri": "https://localhost:8080/",
          "height": 437
        },
        "id": "mzv7KZZpI5z0",
        "outputId": "8fd3e313-2ccd-4c59-ec2a-3701281ba216"
      },
      "id": "mzv7KZZpI5z0",
      "execution_count": null,
      "outputs": [
        {
          "output_type": "display_data",
          "data": {
            "text/plain": [
              "plot without title"
            ],
            "image/png": "[encoded data removed]"
          },
          "metadata": {
            "image/png": {
              "width": 420,
              "height": 420
            }
          }
        }
      ]
    },
    {
      "cell_type": "markdown",
      "metadata": {
        "id": "c1b3c899"
      },
      "source": [
        "### Model Comparison and Judgment\n",
        "\n",
        "Based on the cross-validation results summarized above:\n",
        "\n",
        "*   **Logistic Regression (glm):**\n",
        "    *   Mean ROC: {{X3lJlEt_DgMy.display.text[1][4]}}\n",
        "    *   Mean Sensitivity: {{X3lJlEt_DgMy.display.text[1][9]}}\n",
        "    *   Mean Specificity: {{X3lJlEt_DgMy.display.text[1][14]}}\n",
        "    *   This model shows a good balance between sensitivity and specificity and has the highest mean ROC among the three.\n",
        "\n",
        "*   **Decision Tree (rpart):**\n",
        "    *   Mean ROC: {{X3lJlEt_DgMy.display.text[2][4]}}\n",
        "    *   Mean Sensitivity: {{X3lJlEt_DgMy.display.text[2][9]}}\n",
        "    *   Mean Specificity: {{X3lJlEt_DgMy.display.text[2][14]}}\n",
        "    *   The Decision Tree has a lower mean ROC compared to Logistic Regression and Random Forest. It also shows a lower specificity, meaning it's less effective at correctly identifying customers who do not churn.\n",
        "\n",
        "*   **Random Forest (rf):**\n",
        "    *   Mean ROC: {{X3lJlEt_DgMy.display.text[3][4]}}\n",
        "    *   Mean Sensitivity: {{X3lJlEt_DgMy.display.text[3][9]}}\n",
        "    *   Mean Specificity: {{X3lJlEt_DgMy.display.text[3][14]}}\n",
        "    *   The Random Forest model has a high mean ROC, close to that of Logistic Regression. However, it has the lowest mean specificity, indicating it struggles more with correctly classifying non-churn customers.\n",
        "\n",
        "**Judgment:**\n",
        "\n",
        "Considering the mean ROC as the primary metric for model selection (as specified in `trControl`), **Logistic Regression** appears to be the best performing model among the three, with the highest mean ROC and a better balance between sensitivity and specificity compared to Random Forest. While Random Forest has a high mean ROC, its low specificity might be a concern depending on the business context and the relative cost of false positives versus false negatives. The Decision Tree model performs the worst in terms of mean ROC.\n",
        "\n",
        "Therefore, **Logistic Regression** is the recommended model to proceed with for making predictions on the test set."
      ],
      "id": "c1b3c899"
    },
    {
      "cell_type": "markdown",
      "metadata": {
        "id": "6016c911"
      },
      "source": [
        "### Review of the Project\n",
        "\n",
        "Based on the notebook content from the beginning, here's a review of the steps taken and how they align with the project requirements:\n",
        "\n",
        "**1. Data Selection and Understanding:**\n",
        "*   A suitable dataset \"WA\\_Fn-UseC\\_-Telco-Customer-Churn.csv\" was selected.\n",
        "*   Initial data exploration was performed using `str()`, `dim()`, `head()`, and `glimpse()` to understand the data structure and variables.\n",
        "\n",
        "**2. Data Preprocessing:**\n",
        "*   Missing values in the `TotalCharges` column were identified using `colSums(is.na(df))` and `introduce(df)`.\n",
        "*   The missing values in `TotalCharges` were imputed with 0 after observing that they correspond to customers with a `tenure` of 0.\n",
        "*   The `SeniorCitizen` column was converted to a factor with \"Yes\" and \"No\" levels.\n",
        "*   The `customerID` column was removed as it's not useful for modeling.\n",
        "*   The data was split into training (80%) and testing (20%) sets using `createDataPartition` with stratification to maintain the churn rate distribution.\n",
        "*   Preprocessing steps (centering and scaling) were included in the `trainControl` for the models.\n",
        "\n",
        "**3. Data Visualization:**\n",
        "*   A bar plot of the `Churn` distribution was created using `ggplot2`.\n",
        "*   An automatic EDA report was generated using `create_report()` from the `DataExplorer` package, providing various visualizations and summaries.\n",
        "\n",
        "**4. Model Training:**\n",
        "*   Three classification models were trained: Logistic Regression (`glm`), Decision Tree (`rpart`), and Random Forest (`rf`).\n",
        "*   Cross-validation (10-fold) was used during training with `trainControl`.\n",
        "*   The models were evaluated using the ROC metric during cross-validation.\n",
        "\n",
        "**5. Model Evaluation and Comparison:**\n",
        "*   The cross-validation results of the three models were compared using `resamples()` and `summary()`.\n",
        "*   A boxplot of the ROC values from the cross-validation was generated using `bwplot()`.\n",
        "*   A markdown section provides a judgment on the model comparison based on the cross-validation results, concluding that Logistic Regression is the recommended model based on mean ROC and a balance of sensitivity and specificity.\n",
        "*   A confusion matrix was calculated for the Random Forest model on the test data using `confusionMatrix()`.\n",
        "*   An ROC curve and AUC were calculated and plotted for the Random Forest model on the test data using `pROC`.\n",
        "*   Variable importance for the Random Forest model was calculated and plotted using `varImp()`.\n",
        "\n",
        "**6. Ghi chép đầy đủ và rõ ràng trong Notebook (Documentation and Clarity):**\n",
        "*   The notebook includes markdown cells explaining the objective, group members, and detailed requirements.\n",
        "*   Markdown cells are used to introduce each modeling step (Logistic Regression, Decision Tree, Random Forest) and the model comparison.\n",
        "*   Code cells have comments explaining the steps.\n",
        "\n",
        "**Checklist based on Requirements:**\n",
        "\n",
        "*   [x] Choose a suitable dataset (> 500 rows, > 5 columns).\n",
        "*   [x] Choose a classification or regression problem (Churn prediction is classification).\n",
        "*   [x] Identify target and feature variables (Churn is target, others are features).\n",
        "*   [x] Data preprocessing (missing values handled, data split).\n",
        "*   [x] Data visualization (bar plot, EDA report).\n",
        "*   [x] Train at least 1 machine learning model (trained 3 models).\n",
        "*   [x] Optimize or tune hyperparameters (tuneLength used for Decision Tree and Random Forest).\n",
        "*   [x] Evaluate model using appropriate metrics (ROC, Sensitivity, Specificity, Confusion Matrix, AUC).\n",
        "*   [x] Provide comments on model performance.\n",
        "*   [x] Ghi chép đầy đủ và rõ ràng trong Notebook (Documentation and Clarity).\n",
        "*   [x] Write on Jupyter Notebook (.ipynb).\n",
        "*   [x] Must run completely without errors (errors encountered were fixed).\n",
        "*   [x] Include data description, result analysis, and overall conclusion.\n",
        "\n",
        "**Overall Conclusion:**\n",
        "\n",
        "The notebook successfully addresses the project requirements. The steps for data loading, preprocessing, visualization, model training, and evaluation are clearly demonstrated. The comparison of the three models and the selection of the best model based on the chosen metric are well-documented. The notebook is structured logically with explanations in markdown cells and comments in code cells.\n",
        "\n",
        "**Next Steps:**\n",
        "\n",
        "1.  **Finalize Model Selection:** Although the cross-validation suggested Logistic Regression, you have also evaluated the Random Forest on the test set. You might want to calculate the confusion matrix and ROC/AUC for the Logistic Regression model on the test set as well to make a final decision based on performance on unseen data.\n",
        "2.  **Detailed Interpretation:** Provide a more in-depth interpretation of the results from the best model, discussing the significant features and the implications of the model's performance metrics for the business problem.\n",
        "3.  **Presentation Preparation:** Prepare for the presentation, ensuring all group members understand the code, the analysis, and the conclusions."
      ],
      "id": "6016c911"
    },
    {
      "cell_type": "markdown",
      "metadata": {
        "id": "32ed8c4b"
      },
      "source": [
        "## Data Loading and Initial Exploration\n",
        "\n",
        "This section focuses on loading the dataset and performing initial checks to understand its structure, dimensions, and identify any missing values."
      ],
      "id": "32ed8c4b"
    },
    {
      "cell_type": "markdown",
      "metadata": {
        "id": "483caf3b"
      },
      "source": [
        "## Data Preprocessing\n",
        "\n",
        "Here, we prepare the data for machine learning models. This involves handling missing values, transforming variables, and splitting the data into training and testing sets."
      ],
      "id": "483caf3b"
    },
    {
      "cell_type": "markdown",
      "metadata": {
        "id": "b0ff004f"
      },
      "source": [
        "## Model Training\n",
        "\n",
        "In this section, we train different machine learning models on the prepared training data. We use cross-validation to evaluate the models and tune hyperparameters."
      ],
      "id": "b0ff004f"
    },
    {
      "cell_type": "markdown",
      "metadata": {
        "id": "6015ab90"
      },
      "source": [
        "## Model Evaluation and Comparison\n",
        "\n",
        "After training the models, we evaluate their performance using appropriate metrics and compare them to select the best-performing model."
      ],
      "id": "6015ab90"
    },
    {
      "cell_type": "markdown",
      "metadata": {
        "id": "443d22f2"
      },
      "source": [
        "## Conclusion\n",
        "\n",
        "This section summarizes the findings from the data analysis and model building process, and presents the final conclusions and potential next steps."
      ],
      "id": "443d22f2"
    }
  ],
  "metadata": {
    "kernelspec": {
      "display_name": "R",
      "name": "ir"
    },
    "language_info": {
      "name": "R"
    },
    "colab": {
      "provenance": []
    }
  },
  "nbformat": 4,
  "nbformat_minor": 5
}